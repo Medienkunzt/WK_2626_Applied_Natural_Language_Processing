{
 "cells": [
  {
   "cell_type": "code",
   "execution_count": 24,
   "metadata": {},
   "outputs": [],
   "source": [
    "import transformers\n",
    "transformers.logging.set_verbosity_warning()"
   ]
  },
  {
   "cell_type": "code",
   "execution_count": null,
   "metadata": {},
   "outputs": [],
   "source": [
    "# load TransformerText.txt\n",
    "with open('./Data/TransformerText.txt', 'r') as file:\n",
    "    text = file.read()"
   ]
  },
  {
   "cell_type": "code",
   "execution_count": null,
   "metadata": {},
   "outputs": [],
   "source": [
    "# Tokenize a text using the autotokenizer of the transformers library\n",
    "\n",
    "# Import the AutoTokenizer class\n",
    "from transformers import AutoTokenizer\n",
    "\n",
    "# Load the tokenizer\n",
    "tokenizer = AutoTokenizer.from_pretrained(\"bert-base-german-cased\")"
   ]
  },
  {
   "cell_type": "code",
   "execution_count": null,
   "metadata": {},
   "outputs": [],
   "source": [
    "# Tokenize the text\n",
    "tokenized_text = tokenizer.tokenize(text)\n",
    "\n",
    "# Print the tokenized text\n",
    "print(tokenized_text)"
   ]
  },
  {
   "cell_type": "code",
   "execution_count": null,
   "metadata": {},
   "outputs": [],
   "source": [
    "tokenizer(text)"
   ]
  },
  {
   "cell_type": "code",
   "execution_count": 1,
   "metadata": {},
   "outputs": [
    {
     "name": "stderr",
     "output_type": "stream",
     "text": [
      "c:\\Users\\monox\\anaconda3\\envs\\transformer_env\\lib\\site-packages\\tqdm\\auto.py:22: TqdmWarning: IProgress not found. Please update jupyter and ipywidgets. See https://ipywidgets.readthedocs.io/en/stable/user_install.html\n",
      "  from .autonotebook import tqdm as notebook_tqdm\n",
      "Using custom data configuration IMDBsentiment-0473a1081b52037e\n",
      "c:\\Users\\monox\\anaconda3\\envs\\transformer_env\\lib\\site-packages\\scipy\\__init__.py:146: UserWarning: A NumPy version >=1.16.5 and <1.23.0 is required for this version of SciPy (detected version 1.23.5\n",
      "  warnings.warn(f\"A NumPy version >={np_minversion} and <{np_maxversion}\"\n",
      "Found cached dataset csv (C:/Users/monox/.cache/huggingface/datasets/csv/IMDBsentiment-0473a1081b52037e/0.0.0/6b34fb8fcf56f7c8ba51dc895bfa2bfbe43546f190a60fcf74bb5e8afdcc2317)\n",
      "100%|██████████| 2/2 [00:00<00:00, 13.79it/s]\n"
     ]
    }
   ],
   "source": [
    "# load Train.csv and Test.csv into same datasetdic\n",
    "import pandas as pd\n",
    "import numpy as np\n",
    "from datasets import load_dataset\n",
    "\n",
    "data_files = {\"train\": \"train.csv\", \"test\": \"test.csv\"}\n",
    "dataset = load_dataset(\"../Data/IMDBsentiment/IMDBsentiment\", data_files=data_files)"
   ]
  },
  {
   "cell_type": "code",
   "execution_count": 3,
   "metadata": {},
   "outputs": [
    {
     "data": {
      "text/plain": [
       "DatasetDict({\n",
       "    train: Dataset({\n",
       "        features: ['text', 'label'],\n",
       "        num_rows: 100\n",
       "    })\n",
       "    test: Dataset({\n",
       "        features: ['text', 'label'],\n",
       "        num_rows: 5000\n",
       "    })\n",
       "})"
      ]
     },
     "execution_count": 3,
     "metadata": {},
     "output_type": "execute_result"
    }
   ],
   "source": [
    "# remduce dataset train to 100 samples\n",
    "dataset['train'] = dataset['train'].select(range(100))\n",
    "dataset"
   ]
  },
  {
   "cell_type": "code",
   "execution_count": 4,
   "metadata": {},
   "outputs": [],
   "source": [
    "from transformers import AutoTokenizer\n",
    "\n",
    "tokenizer = AutoTokenizer.from_pretrained(\"bert-base-uncased\")"
   ]
  },
  {
   "cell_type": "code",
   "execution_count": 5,
   "metadata": {},
   "outputs": [],
   "source": [
    "def preprocess_function(examples):\n",
    "    return tokenizer(examples[\"text\"], truncation=True)"
   ]
  },
  {
   "cell_type": "code",
   "execution_count": 6,
   "metadata": {},
   "outputs": [
    {
     "name": "stderr",
     "output_type": "stream",
     "text": [
      "100%|██████████| 1/1 [00:00<00:00,  8.55ba/s]\n",
      "Loading cached processed dataset at C:\\Users\\monox\\.cache\\huggingface\\datasets\\csv\\IMDBsentiment-0473a1081b52037e\\0.0.0\\6b34fb8fcf56f7c8ba51dc895bfa2bfbe43546f190a60fcf74bb5e8afdcc2317\\cache-a13dd62b552c8163.arrow\n"
     ]
    }
   ],
   "source": [
    "tokenized_imdb = dataset.map(preprocess_function, batched=True)"
   ]
  },
  {
   "cell_type": "code",
   "execution_count": 7,
   "metadata": {},
   "outputs": [
    {
     "data": {
      "text/plain": [
       "{'text': ['I grew up (b. 1965) watching and loving the Thunderbirds. All my mates at school watched. We played \"Thunderbirds\" before school, during lunch and after school. We all wanted to be Virgil or Scott. No one wanted to be Alan. Counting down from 5 became an art form. I took my children to see the movie hoping they would get a glimpse of what I loved as a child. How bitterly disappointing. The only high point was the snappy theme tune. Not that it could compare with the original score of the Thunderbirds. Thankfully early Saturday mornings one television channel still plays reruns of the series Gerry Anderson and his wife created. Jonatha Frakes should hand in his directors chair, his version was completely hopeless. A waste of film. Utter rubbish. A CGI remake may be acceptable but replacing marionettes with Homo sapiens subsp. sapiens was a huge error of judgment.'],\n",
       " 'label': [0],\n",
       " 'input_ids': [[101,\n",
       "   1045,\n",
       "   3473,\n",
       "   2039,\n",
       "   1006,\n",
       "   1038,\n",
       "   1012,\n",
       "   3551,\n",
       "   1007,\n",
       "   3666,\n",
       "   1998,\n",
       "   8295,\n",
       "   1996,\n",
       "   8505,\n",
       "   12887,\n",
       "   1012,\n",
       "   2035,\n",
       "   2026,\n",
       "   14711,\n",
       "   2012,\n",
       "   2082,\n",
       "   3427,\n",
       "   1012,\n",
       "   2057,\n",
       "   2209,\n",
       "   1000,\n",
       "   8505,\n",
       "   12887,\n",
       "   1000,\n",
       "   2077,\n",
       "   2082,\n",
       "   1010,\n",
       "   2076,\n",
       "   6265,\n",
       "   1998,\n",
       "   2044,\n",
       "   2082,\n",
       "   1012,\n",
       "   2057,\n",
       "   2035,\n",
       "   2359,\n",
       "   2000,\n",
       "   2022,\n",
       "   17270,\n",
       "   2030,\n",
       "   3660,\n",
       "   1012,\n",
       "   2053,\n",
       "   2028,\n",
       "   2359,\n",
       "   2000,\n",
       "   2022,\n",
       "   5070,\n",
       "   1012,\n",
       "   10320,\n",
       "   2091,\n",
       "   2013,\n",
       "   1019,\n",
       "   2150,\n",
       "   2019,\n",
       "   2396,\n",
       "   2433,\n",
       "   1012,\n",
       "   1045,\n",
       "   2165,\n",
       "   2026,\n",
       "   2336,\n",
       "   2000,\n",
       "   2156,\n",
       "   1996,\n",
       "   3185,\n",
       "   5327,\n",
       "   2027,\n",
       "   2052,\n",
       "   2131,\n",
       "   1037,\n",
       "   12185,\n",
       "   1997,\n",
       "   2054,\n",
       "   1045,\n",
       "   3866,\n",
       "   2004,\n",
       "   1037,\n",
       "   2775,\n",
       "   1012,\n",
       "   2129,\n",
       "   19248,\n",
       "   15640,\n",
       "   1012,\n",
       "   1996,\n",
       "   2069,\n",
       "   2152,\n",
       "   2391,\n",
       "   2001,\n",
       "   1996,\n",
       "   10245,\n",
       "   7685,\n",
       "   4323,\n",
       "   8694,\n",
       "   1012,\n",
       "   2025,\n",
       "   2008,\n",
       "   2009,\n",
       "   2071,\n",
       "   12826,\n",
       "   2007,\n",
       "   1996,\n",
       "   2434,\n",
       "   3556,\n",
       "   1997,\n",
       "   1996,\n",
       "   8505,\n",
       "   12887,\n",
       "   1012,\n",
       "   16047,\n",
       "   2220,\n",
       "   5095,\n",
       "   16956,\n",
       "   2028,\n",
       "   2547,\n",
       "   3149,\n",
       "   2145,\n",
       "   3248,\n",
       "   2128,\n",
       "   15532,\n",
       "   2015,\n",
       "   1997,\n",
       "   1996,\n",
       "   2186,\n",
       "   14926,\n",
       "   5143,\n",
       "   1998,\n",
       "   2010,\n",
       "   2564,\n",
       "   2580,\n",
       "   1012,\n",
       "   6285,\n",
       "   8988,\n",
       "   2050,\n",
       "   25312,\n",
       "   9681,\n",
       "   2323,\n",
       "   2192,\n",
       "   1999,\n",
       "   2010,\n",
       "   5501,\n",
       "   3242,\n",
       "   1010,\n",
       "   2010,\n",
       "   2544,\n",
       "   2001,\n",
       "   3294,\n",
       "   20625,\n",
       "   1012,\n",
       "   1037,\n",
       "   5949,\n",
       "   1997,\n",
       "   2143,\n",
       "   1012,\n",
       "   14395,\n",
       "   29132,\n",
       "   1012,\n",
       "   1037,\n",
       "   1039,\n",
       "   5856,\n",
       "   12661,\n",
       "   2089,\n",
       "   2022,\n",
       "   11701,\n",
       "   2021,\n",
       "   6419,\n",
       "   10115,\n",
       "   26592,\n",
       "   2007,\n",
       "   24004,\n",
       "   20066,\n",
       "   24836,\n",
       "   24807,\n",
       "   1012,\n",
       "   20066,\n",
       "   24836,\n",
       "   2001,\n",
       "   1037,\n",
       "   4121,\n",
       "   7561,\n",
       "   1997,\n",
       "   8689,\n",
       "   1012,\n",
       "   102]],\n",
       " 'attention_mask': [[1,\n",
       "   1,\n",
       "   1,\n",
       "   1,\n",
       "   1,\n",
       "   1,\n",
       "   1,\n",
       "   1,\n",
       "   1,\n",
       "   1,\n",
       "   1,\n",
       "   1,\n",
       "   1,\n",
       "   1,\n",
       "   1,\n",
       "   1,\n",
       "   1,\n",
       "   1,\n",
       "   1,\n",
       "   1,\n",
       "   1,\n",
       "   1,\n",
       "   1,\n",
       "   1,\n",
       "   1,\n",
       "   1,\n",
       "   1,\n",
       "   1,\n",
       "   1,\n",
       "   1,\n",
       "   1,\n",
       "   1,\n",
       "   1,\n",
       "   1,\n",
       "   1,\n",
       "   1,\n",
       "   1,\n",
       "   1,\n",
       "   1,\n",
       "   1,\n",
       "   1,\n",
       "   1,\n",
       "   1,\n",
       "   1,\n",
       "   1,\n",
       "   1,\n",
       "   1,\n",
       "   1,\n",
       "   1,\n",
       "   1,\n",
       "   1,\n",
       "   1,\n",
       "   1,\n",
       "   1,\n",
       "   1,\n",
       "   1,\n",
       "   1,\n",
       "   1,\n",
       "   1,\n",
       "   1,\n",
       "   1,\n",
       "   1,\n",
       "   1,\n",
       "   1,\n",
       "   1,\n",
       "   1,\n",
       "   1,\n",
       "   1,\n",
       "   1,\n",
       "   1,\n",
       "   1,\n",
       "   1,\n",
       "   1,\n",
       "   1,\n",
       "   1,\n",
       "   1,\n",
       "   1,\n",
       "   1,\n",
       "   1,\n",
       "   1,\n",
       "   1,\n",
       "   1,\n",
       "   1,\n",
       "   1,\n",
       "   1,\n",
       "   1,\n",
       "   1,\n",
       "   1,\n",
       "   1,\n",
       "   1,\n",
       "   1,\n",
       "   1,\n",
       "   1,\n",
       "   1,\n",
       "   1,\n",
       "   1,\n",
       "   1,\n",
       "   1,\n",
       "   1,\n",
       "   1,\n",
       "   1,\n",
       "   1,\n",
       "   1,\n",
       "   1,\n",
       "   1,\n",
       "   1,\n",
       "   1,\n",
       "   1,\n",
       "   1,\n",
       "   1,\n",
       "   1,\n",
       "   1,\n",
       "   1,\n",
       "   1,\n",
       "   1,\n",
       "   1,\n",
       "   1,\n",
       "   1,\n",
       "   1,\n",
       "   1,\n",
       "   1,\n",
       "   1,\n",
       "   1,\n",
       "   1,\n",
       "   1,\n",
       "   1,\n",
       "   1,\n",
       "   1,\n",
       "   1,\n",
       "   1,\n",
       "   1,\n",
       "   1,\n",
       "   1,\n",
       "   1,\n",
       "   1,\n",
       "   1,\n",
       "   1,\n",
       "   1,\n",
       "   1,\n",
       "   1,\n",
       "   1,\n",
       "   1,\n",
       "   1,\n",
       "   1,\n",
       "   1,\n",
       "   1,\n",
       "   1,\n",
       "   1,\n",
       "   1,\n",
       "   1,\n",
       "   1,\n",
       "   1,\n",
       "   1,\n",
       "   1,\n",
       "   1,\n",
       "   1,\n",
       "   1,\n",
       "   1,\n",
       "   1,\n",
       "   1,\n",
       "   1,\n",
       "   1,\n",
       "   1,\n",
       "   1,\n",
       "   1,\n",
       "   1,\n",
       "   1,\n",
       "   1,\n",
       "   1,\n",
       "   1,\n",
       "   1,\n",
       "   1,\n",
       "   1,\n",
       "   1,\n",
       "   1,\n",
       "   1,\n",
       "   1,\n",
       "   1,\n",
       "   1,\n",
       "   1,\n",
       "   1,\n",
       "   1,\n",
       "   1,\n",
       "   1,\n",
       "   1,\n",
       "   1,\n",
       "   1,\n",
       "   1,\n",
       "   1]]}"
      ]
     },
     "execution_count": 7,
     "metadata": {},
     "output_type": "execute_result"
    }
   ],
   "source": [
    "tokenized_imdb[\"train\"][:1]"
   ]
  },
  {
   "cell_type": "code",
   "execution_count": 8,
   "metadata": {},
   "outputs": [],
   "source": [
    "from transformers import DataCollatorWithPadding\n",
    "\n",
    "data_collator = DataCollatorWithPadding(tokenizer=tokenizer)"
   ]
  },
  {
   "cell_type": "code",
   "execution_count": 9,
   "metadata": {},
   "outputs": [],
   "source": [
    "import evaluate\n",
    "\n",
    "accuracy = evaluate.load(\"accuracy\")"
   ]
  },
  {
   "cell_type": "code",
   "execution_count": 10,
   "metadata": {},
   "outputs": [],
   "source": [
    "import numpy as np\n",
    "\n",
    "\n",
    "def compute_metrics(eval_pred):\n",
    "    predictions, labels = eval_pred\n",
    "    predictions = np.argmax(predictions, axis=1)\n",
    "    return accuracy.compute(predictions=predictions, references=labels)"
   ]
  },
  {
   "cell_type": "code",
   "execution_count": 11,
   "metadata": {},
   "outputs": [],
   "source": [
    "id2label = {0: \"NEGATIVE\", 1: \"POSITIVE\"}\n",
    "label2id = {\"NEGATIVE\": 0, \"POSITIVE\": 1}"
   ]
  },
  {
   "cell_type": "code",
   "execution_count": 12,
   "metadata": {},
   "outputs": [
    {
     "name": "stderr",
     "output_type": "stream",
     "text": [
      "Some weights of the model checkpoint at distilbert-base-uncased were not used when initializing DistilBertForSequenceClassification: ['vocab_transform.bias', 'vocab_layer_norm.bias', 'vocab_projector.bias', 'vocab_transform.weight', 'vocab_layer_norm.weight', 'vocab_projector.weight']\n",
      "- This IS expected if you are initializing DistilBertForSequenceClassification from the checkpoint of a model trained on another task or with another architecture (e.g. initializing a BertForSequenceClassification model from a BertForPreTraining model).\n",
      "- This IS NOT expected if you are initializing DistilBertForSequenceClassification from the checkpoint of a model that you expect to be exactly identical (initializing a BertForSequenceClassification model from a BertForSequenceClassification model).\n",
      "Some weights of DistilBertForSequenceClassification were not initialized from the model checkpoint at distilbert-base-uncased and are newly initialized: ['pre_classifier.weight', 'pre_classifier.bias', 'classifier.weight', 'classifier.bias']\n",
      "You should probably TRAIN this model on a down-stream task to be able to use it for predictions and inference.\n"
     ]
    }
   ],
   "source": [
    "from transformers import AutoModelForSequenceClassification, TrainingArguments, Trainer\n",
    "\n",
    "model = AutoModelForSequenceClassification.from_pretrained(\n",
    "    \"bert-base-uncased\", num_labels=2, id2label=id2label, label2id=label2id\n",
    ")"
   ]
  },
  {
   "cell_type": "code",
   "execution_count": 13,
   "metadata": {},
   "outputs": [
    {
     "name": "stderr",
     "output_type": "stream",
     "text": [
      "The following columns in the training set don't have a corresponding argument in `DistilBertForSequenceClassification.forward` and have been ignored: text. If text are not expected by `DistilBertForSequenceClassification.forward`,  you can safely ignore this message.\n",
      "c:\\Users\\monox\\anaconda3\\envs\\transformer_env\\lib\\site-packages\\transformers\\optimization.py:306: FutureWarning: This implementation of AdamW is deprecated and will be removed in a future version. Use the PyTorch implementation torch.optim.AdamW instead, or set `no_deprecation_warning=True` to disable this warning\n",
      "  warnings.warn(\n",
      "***** Running training *****\n",
      "  Num examples = 100\n",
      "  Num Epochs = 2\n",
      "  Instantaneous batch size per device = 16\n",
      "  Total train batch size (w. parallel, distributed & accumulation) = 16\n",
      "  Gradient Accumulation steps = 1\n",
      "  Total optimization steps = 14\n",
      "  Number of trainable parameters = 66955010\n",
      "  0%|          | 0/14 [00:00<?, ?it/s]You're using a DistilBertTokenizerFast tokenizer. Please note that with a fast tokenizer, using the `__call__` method is faster than using a method to encode the text followed by a call to the `pad` method to get a padded encoding.\n",
      " 50%|█████     | 7/14 [03:49<03:19, 28.57s/it]The following columns in the evaluation set don't have a corresponding argument in `DistilBertForSequenceClassification.forward` and have been ignored: text. If text are not expected by `DistilBertForSequenceClassification.forward`,  you can safely ignore this message.\n",
      "***** Running Evaluation *****\n",
      "  Num examples = 5000\n",
      "  Batch size = 16\n",
      "                                              \n",
      " 50%|█████     | 7/14 [1:12:26<03:19, 28.57s/it]   Saving model checkpoint to my_awesome_model\\checkpoint-7\n",
      "Configuration saved in my_awesome_model\\checkpoint-7\\config.json\n"
     ]
    },
    {
     "name": "stdout",
     "output_type": "stream",
     "text": [
      "{'eval_loss': 0.6879410743713379, 'eval_accuracy': 0.501, 'eval_runtime': 4116.7849, 'eval_samples_per_second': 1.215, 'eval_steps_per_second': 0.076, 'epoch': 1.0}\n"
     ]
    },
    {
     "name": "stderr",
     "output_type": "stream",
     "text": [
      "Model weights saved in my_awesome_model\\checkpoint-7\\pytorch_model.bin\n",
      "tokenizer config file saved in my_awesome_model\\checkpoint-7\\tokenizer_config.json\n",
      "Special tokens file saved in my_awesome_model\\checkpoint-7\\special_tokens_map.json\n",
      "100%|██████████| 14/14 [1:15:30<00:00, 169.08s/it]  The following columns in the evaluation set don't have a corresponding argument in `DistilBertForSequenceClassification.forward` and have been ignored: text. If text are not expected by `DistilBertForSequenceClassification.forward`,  you can safely ignore this message.\n",
      "***** Running Evaluation *****\n",
      "  Num examples = 5000\n",
      "  Batch size = 16\n",
      "                                                  \n",
      "100%|██████████| 14/14 [2:08:44<00:00, 169.08s/it]Saving model checkpoint to my_awesome_model\\checkpoint-14\n",
      "Configuration saved in my_awesome_model\\checkpoint-14\\config.json\n"
     ]
    },
    {
     "name": "stdout",
     "output_type": "stream",
     "text": [
      "{'eval_loss': 0.6841050982475281, 'eval_accuracy': 0.567, 'eval_runtime': 3193.9312, 'eval_samples_per_second': 1.565, 'eval_steps_per_second': 0.098, 'epoch': 2.0}\n"
     ]
    },
    {
     "name": "stderr",
     "output_type": "stream",
     "text": [
      "Model weights saved in my_awesome_model\\checkpoint-14\\pytorch_model.bin\n",
      "tokenizer config file saved in my_awesome_model\\checkpoint-14\\tokenizer_config.json\n",
      "Special tokens file saved in my_awesome_model\\checkpoint-14\\special_tokens_map.json\n",
      "\n",
      "\n",
      "Training completed. Do not forget to share your model on huggingface.co/models =)\n",
      "\n",
      "\n",
      "Loading best model from my_awesome_model\\checkpoint-14 (score: 0.6841050982475281).\n",
      "100%|██████████| 14/14 [2:08:47<00:00, 551.97s/it]"
     ]
    },
    {
     "name": "stdout",
     "output_type": "stream",
     "text": [
      "{'train_runtime': 7727.5342, 'train_samples_per_second': 0.026, 'train_steps_per_second': 0.002, 'train_loss': 0.6903149059840611, 'epoch': 2.0}\n"
     ]
    },
    {
     "name": "stderr",
     "output_type": "stream",
     "text": [
      "\n"
     ]
    },
    {
     "data": {
      "text/plain": [
       "TrainOutput(global_step=14, training_loss=0.6903149059840611, metrics={'train_runtime': 7727.5342, 'train_samples_per_second': 0.026, 'train_steps_per_second': 0.002, 'train_loss': 0.6903149059840611, 'epoch': 2.0})"
      ]
     },
     "execution_count": 13,
     "metadata": {},
     "output_type": "execute_result"
    }
   ],
   "source": [
    "training_args = TrainingArguments(\n",
    "    output_dir=\"trained_model\",\n",
    "    learning_rate=2e-5,\n",
    "    per_device_train_batch_size=16,\n",
    "    per_device_eval_batch_size=16,\n",
    "    num_train_epochs=2,\n",
    "    weight_decay=0.01,\n",
    "    evaluation_strategy=\"epoch\",\n",
    "    save_strategy=\"epoch\",\n",
    "    load_best_model_at_end=True,\n",
    ")\n",
    "\n",
    "trainer = Trainer(\n",
    "    model=model,\n",
    "    args=training_args,\n",
    "    train_dataset=tokenized_imdb[\"train\"],\n",
    "    eval_dataset=tokenized_imdb[\"test\"],\n",
    "    tokenizer=tokenizer,\n",
    "    data_collator=data_collator,\n",
    "    compute_metrics=compute_metrics,\n",
    ")\n",
    "\n",
    "trainer.train()"
   ]
  },
  {
   "cell_type": "code",
   "execution_count": 25,
   "metadata": {},
   "outputs": [
    {
     "name": "stdout",
     "output_type": "stream",
     "text": [
      "[{'label': 'POSITIVE', 'score': 0.5119481682777405}]\n"
     ]
    }
   ],
   "source": [
    "from transformers import pipeline\n",
    "\n",
    "text = \"This is a very very bad movie.\"\n",
    "\n",
    "classifier = pipeline(\"sentiment-analysis\", model=\"./trained_model/checkpoint-XX/\")\n",
    "print(classifier(text))"
   ]
  }
 ],
 "metadata": {
  "kernelspec": {
   "display_name": "transformer_env",
   "language": "python",
   "name": "python3"
  },
  "language_info": {
   "codemirror_mode": {
    "name": "ipython",
    "version": 3
   },
   "file_extension": ".py",
   "mimetype": "text/x-python",
   "name": "python",
   "nbconvert_exporter": "python",
   "pygments_lexer": "ipython3",
   "version": "3.9.15"
  },
  "orig_nbformat": 4,
  "vscode": {
   "interpreter": {
    "hash": "2c5ffb4cbf69a0f05c94063856d79df808b8feac54bdce22ed30518daae957b3"
   }
  }
 },
 "nbformat": 4,
 "nbformat_minor": 2
}
