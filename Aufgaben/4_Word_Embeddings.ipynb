{
 "cells": [
  {
   "cell_type": "code",
   "execution_count": 1,
   "metadata": {},
   "outputs": [],
   "source": [
    "# Train a word embedding model based on the Wikipedia corpus. Use the gensim library for this. Use the CBOW algorithm.\n",
    "\n",
    "# load wikipedia corpus\n",
    "with open(\"../Data/Wikipedia1M/Wikipedia1M.txt\", \"r\", encoding=\"utf-8\") as file:\n",
    "    text = file.read()\n",
    "\n",
    "# clean text\n",
    "import re\n",
    "def clean_text(text):\n",
    "    text = re.sub(r'[^a-zA-Z0-9äöüÄÖÜß.,!?]', ' ', text) # remove all special characters\n",
    "    text = re.sub(r' +', ' ', text) # remove multiple spaces    \n",
    "    text = text.strip() # remove leading and trailing spaces\n",
    "    text = text.lower()\n",
    "    return text\n",
    "\n",
    "# clean text\n",
    "text = clean_text(text)"
   ]
  },
  {
   "cell_type": "code",
   "execution_count": 2,
   "metadata": {},
   "outputs": [
    {
     "name": "stdout",
     "output_type": "stream",
     "text": [
      "[['0,7', 'prozent', 'stammen', 'von', 'zwei', 'oder', 'mehr', 'ethnien', 'ab', '.'], ['0', 'bedeutet', ',', 'dass', 'der', 'strahlengang', 'frei', 'ist', ',', 'der', 'füllstand', 'also', 'unter', 'der', 'grenze', 'liegt', '.']]\n"
     ]
    }
   ],
   "source": [
    "from nltk.tokenize import sent_tokenize, word_tokenize\n",
    "\n",
    "sentences = []\n",
    "\n",
    "# iterate through each sentence in the file\n",
    "for sent in sent_tokenize(text, language='german'):\n",
    "    sentence = []\n",
    "\n",
    "    # tokenize the sentence into words\n",
    "    for word in word_tokenize(sent):\n",
    "        sentence.append(word)\n",
    "\n",
    "    sentences.append(sentence)\n",
    "\n",
    "print(sentences[:2])"
   ]
  },
  {
   "cell_type": "code",
   "execution_count": 3,
   "metadata": {},
   "outputs": [
    {
     "name": "stdout",
     "output_type": "stream",
     "text": [
      "[('toten', 0.7085815072059631), ('patienten', 0.69948410987854), ('personen', 0.6992109417915344), ('tiere', 0.6892474293708801), ('frauen', 0.6757413744926453), ('leute', 0.6707344055175781), ('juden', 0.670009970664978), ('männer', 0.6545649766921997), ('zuschauer', 0.6445623636245728), ('tieren', 0.6436764597892761)]\n"
     ]
    }
   ],
   "source": [
    "import gensim\n",
    "from gensim.models import Word2Vec\n",
    "\n",
    "# Create CBOW model\n",
    "model1 = gensim.models.Word2Vec(sentences, min_count=1, vector_size=100, window=5)\n",
    "\n",
    "print(model1.wv.most_similar(\"menschen\"))"
   ]
  },
  {
   "cell_type": "code",
   "execution_count": 4,
   "metadata": {},
   "outputs": [],
   "source": [
    "# Implement a function cossim(w1, w2) that calculates the cosine similarity between two vectors.\n",
    "import numpy as np\n",
    "\n",
    "def cossim(w1, w2):\n",
    "    return np.dot(w1, w2) / (np.linalg.norm(w1) * np.linalg.norm(w2))"
   ]
  },
  {
   "cell_type": "code",
   "execution_count": 5,
   "metadata": {},
   "outputs": [
    {
     "data": {
      "text/plain": [
       "array([-0.61219484,  0.14620392, -0.01894938, -0.32943   ,  0.2590067 ,\n",
       "       -0.47777328, -0.07145228,  0.18352021,  0.18826416,  0.12823725,\n",
       "        0.08111455, -1.0015417 , -0.19310437,  0.05723879, -0.0269367 ,\n",
       "       -0.29669344,  0.1915788 , -0.52234215,  0.09701987, -0.19210993,\n",
       "       -0.25916436,  0.06236822,  0.20239277,  0.2592925 , -0.15845701,\n",
       "       -0.22185244, -0.5656083 ,  0.19805363,  0.07022159,  0.16803712,\n",
       "        0.34525904,  0.17966536, -0.092861  , -0.35657105, -0.22386232,\n",
       "       -0.3055791 , -0.06772435, -0.16486485,  0.2149492 , -0.3917817 ,\n",
       "        0.03006995, -0.17763059, -0.5153436 ,  0.27352706,  0.18995495,\n",
       "        0.15519542, -0.27588123, -0.08087145, -0.3403602 ,  0.6023885 ,\n",
       "        0.15140793, -0.01244401,  0.00623536, -0.0384855 , -0.08811543,\n",
       "       -0.19081397,  0.2867651 , -0.09020526, -0.42107216,  0.3319563 ,\n",
       "       -0.13132894, -0.08162969,  0.58987415,  0.10665484, -0.48465028,\n",
       "        0.4792095 ,  0.3144681 ,  0.35809216,  0.02060029,  0.6565955 ,\n",
       "       -0.3163093 ,  0.2913379 ,  0.50322497, -0.19503011,  0.04511666,\n",
       "        0.04947499, -0.08855036, -0.04926428, -0.13817915, -0.33564648,\n",
       "       -0.29369685, -0.27179408, -0.10573447,  0.23195593,  0.21041857,\n",
       "        0.13261874,  0.05472774,  0.2504784 ,  0.61134636, -0.0080595 ,\n",
       "        0.44431314, -0.08797719,  0.14607196,  0.01746724,  0.32836834,\n",
       "       -0.09319492,  0.02045073,  0.42010254,  0.10274027,  0.39546087],\n",
       "      dtype=float32)"
      ]
     },
     "execution_count": 5,
     "metadata": {},
     "output_type": "execute_result"
    }
   ],
   "source": [
    "model1.wv[\"jupiter\"]"
   ]
  },
  {
   "cell_type": "code",
   "execution_count": 6,
   "metadata": {},
   "outputs": [
    {
     "name": "stdout",
     "output_type": "stream",
     "text": [
      "0.66168725\n"
     ]
    }
   ],
   "source": [
    "# Using your cossim function, calculate the similarity between the words \"house\" and \"garden\".\n",
    "print(cossim(model1.wv[\"haus\"], model1.wv[\"garten\"]))\n"
   ]
  },
  {
   "cell_type": "code",
   "execution_count": 7,
   "metadata": {},
   "outputs": [
    {
     "name": "stdout",
     "output_type": "stream",
     "text": [
      "[('theologe', 0.8202583193778992), ('fotograf', 0.8072711825370789), ('jurist', 0.805841863155365), ('chirurg', 0.8054673075675964), ('chemiker', 0.8048875331878662), ('journalist', 0.8037043213844299), ('geschäftsmann', 0.8022757768630981), ('zeichner', 0.7999512553215027), ('jugendlicher', 0.7971310615539551), ('fotografin', 0.7966182231903076)] \n",
      "\n",
      "[('fotograf', 0.8371474146842957), ('anwalt', 0.823858916759491), ('assistent', 0.8172692060470581), ('journalist', 0.8166898488998413), ('komponist', 0.8146988153457642), ('arzt', 0.8138980865478516), ('zeichner', 0.8110414743423462), ('musiklehrer', 0.808051586151123), ('jurist', 0.8063737154006958), ('ingenieur', 0.8011043667793274)] \n",
      "\n",
      "[('fotograf', 0.7989246845245361), ('komponist', 0.7984394431114197), ('journalist', 0.7806597948074341), ('anwalt', 0.7768469452857971), ('zeichner', 0.7756070494651794), ('drehbuchautor', 0.7749962210655212), ('pianist', 0.7712025046348572), ('jugendlicher', 0.7648984789848328), ('jurist', 0.7636637687683105), ('geschäftsmann', 0.761677622795105)] \n",
      "\n"
     ]
    }
   ],
   "source": [
    "# What are the k = 10 most similar words to \"student\"?\n",
    "print(model1.wv.most_similar(\"student\", topn=10), \"\\n\")\n",
    "\n",
    "\n",
    "####################################\n",
    "########## Just for fun ############\n",
    "# What are the k = 10 most similar words to \"student\" and \"teacher\"?\n",
    "print(model1.wv.most_similar(positive=[\"student\", \"lehrer\"], topn=10), \"\\n\")\n",
    "\n",
    "# What are the k = 10 most similar words to \"student\" and \"teacher\" but not \"school\"?\n",
    "print(model1.wv.most_similar(positive=[\"student\", \"lehrer\"], negative=[\"schule\"], topn=10), \"\\n\")\n",
    "\n",
    "\n"
   ]
  }
 ],
 "metadata": {
  "kernelspec": {
   "display_name": "venv_nlp",
   "language": "python",
   "name": "python3"
  },
  "language_info": {
   "codemirror_mode": {
    "name": "ipython",
    "version": 3
   },
   "file_extension": ".py",
   "mimetype": "text/x-python",
   "name": "python",
   "nbconvert_exporter": "python",
   "pygments_lexer": "ipython3",
   "version": "3.11.1"
  },
  "orig_nbformat": 4,
  "vscode": {
   "interpreter": {
    "hash": "58e9a580e33e381d18751b4bd6d357b368bf1dd5dbcb6db220004eb9fac133a3"
   }
  }
 },
 "nbformat": 4,
 "nbformat_minor": 2
}
