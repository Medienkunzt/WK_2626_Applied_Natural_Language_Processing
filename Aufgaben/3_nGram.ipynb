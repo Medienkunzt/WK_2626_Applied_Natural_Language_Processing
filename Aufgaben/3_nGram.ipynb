{
 "cells": [
  {
   "cell_type": "code",
   "execution_count": null,
   "metadata": {},
   "outputs": [],
   "source": [
    "# imports\n",
    "import re"
   ]
  },
  {
   "cell_type": "code",
   "execution_count": null,
   "metadata": {},
   "outputs": [],
   "source": [
    "# read data\n",
    "with open(\"../Data/Wikipedia1M/Wikipedia1M.txt\", \"r\", encoding=\"utf-8\") as file:\n",
    "    text = file.read()"
   ]
  },
  {
   "cell_type": "code",
   "execution_count": null,
   "metadata": {},
   "outputs": [],
   "source": [
    "# clean text\n",
    "\n",
    "def clean_text(text):\n",
    "    text = re.sub(r'[^a-zA-Z0-9äöüÄÖÜß.,!?]', ' ', text) # remove all special characters\n",
    "    text = re.sub(r' +', ' ', text) # remove multiple spaces\n",
    "    text = re.sub(r'[!?]', '.', text) # replace ! and ? with .\n",
    "    text = re.sub(r'\\.+', '.', text) # remove multiple dots\n",
    "    text = text.strip() # remove leading and trailing spaces\n",
    "    text = text.lower()\n",
    "    return text"
   ]
  },
  {
   "cell_type": "code",
   "execution_count": null,
   "metadata": {},
   "outputs": [],
   "source": [
    "from nltk.corpus import stopwords\n",
    "\n",
    "stop_words = set(stopwords.words('german'))\n",
    "\n",
    "# split text into sentences\n",
    "sentences = []\n",
    "\n",
    "token_count = 0\n",
    "for sent in text.split(\".\"):\n",
    "    clean_sent = clean_text(sent)\n",
    "    tokens = clean_sent.split(\" \")\n",
    "    # tokens = [t for t in tokens if t not in stop_words]\n",
    "    sentences.append(tokens)\n",
    "    token_count += len(tokens)\n",
    "\n",
    "print(f\"Tokens: {token_count}\")\n",
    "print(f\"Sents : {len(sentences)}\")"
   ]
  },
  {
   "cell_type": "code",
   "execution_count": null,
   "metadata": {},
   "outputs": [],
   "source": [
    "sentences[:5]"
   ]
  },
  {
   "cell_type": "code",
   "execution_count": null,
   "metadata": {},
   "outputs": [],
   "source": [
    "from nltk import ngrams\n",
    "\n",
    "bigrams = []\n",
    "unigrams = []\n",
    "\n",
    "for sent in sentences:\n",
    "    \n",
    "    if len(sent) < 2:\n",
    "        continue\n",
    "    \n",
    "    sent.insert(0, \"<s>\")\n",
    "    sent.append(\"</s>\")\n",
    "    \n",
    "    tmp_bigrams = list(ngrams(sent, 2))\n",
    "    bigrams += tmp_bigrams\n",
    "    \n",
    "    unigrams += sent\n",
    "\n",
    "print(bigrams[:10])"
   ]
  },
  {
   "cell_type": "code",
   "execution_count": null,
   "metadata": {},
   "outputs": [],
   "source": [
    "from collections import Counter\n",
    "\n",
    "bigram_counter = Counter(bigrams)\n",
    "print(bigram_counter.most_common(5), end=\"\\n\")\n",
    "\n",
    "unigram_counter = Counter(unigrams)\n",
    "print(unigram_counter.most_common(5))\n",
    "\n",
    "len(unigram_counter)"
   ]
  },
  {
   "cell_type": "code",
   "execution_count": 3,
   "metadata": {},
   "outputs": [
    {
     "name": "stdout",
     "output_type": "stream",
     "text": [
      "{'the cat': 0.05, 'cat sat': 0.05, 'sat on': 0.05, 'on the': 0.05, 'the mat': 0.05}\n"
     ]
    }
   ],
   "source": [
    "def kneser_ney_smoothing(ngrams, delta):\n",
    "    # Calculate the counts of all ngrams\n",
    "    ngram_counts = {}\n",
    "    for ngram in ngrams:\n",
    "        if ngram in ngram_counts:\n",
    "            ngram_counts[ngram] += 1\n",
    "        else:\n",
    "            ngram_counts[ngram] = 1\n",
    "    # Calculate the total number of ngrams\n",
    "    N = sum(ngram_counts.values())\n",
    "    # Calculate the probability of each ngram\n",
    "    ngram_probs = {}\n",
    "    for ngram, count in ngram_counts.items():\n",
    "        # Split the ngram into the prefix and the last word\n",
    "        prefix = ngram[:-1]\n",
    "        last_word = ngram[-1]\n",
    "        # Calculate the probability of the continuation\n",
    "        if prefix in ngram_counts:\n",
    "            p_cont = ngram_counts[prefix] / N\n",
    "        else:\n",
    "            p_cont = 0\n",
    "        # Calculate the probability of the ngram using the Kneser-Ney formula\n",
    "        prob = (count - delta) / N + (delta * p_cont)\n",
    "        ngram_probs[ngram] = prob\n",
    "    return ngram_probs\n",
    "\n",
    "# Example usage\n",
    "ngrams = [\"the cat\", \"cat sat\", \"sat on\", \"on the\", \"the mat\"]\n",
    "probs = kneser_ney_smoothing(ngrams, 0.75)\n",
    "print(probs)\n",
    "# Output: {'the cat': 0.3125, 'cat sat': 0.3125, 'sat on': 0.3125, 'on the': 0.3125, 'the mat': 0.3125}\n"
   ]
  },
  {
   "cell_type": "code",
   "execution_count": null,
   "metadata": {},
   "outputs": [],
   "source": [
    "\n",
    "bigramss = [(\"ich\", \"bin\"), (\"bin\", \"hier\"), (\"hier\", \"um\"), (\"um\", \"zu\"), (\"zu\", \"lernen\"), (\"ich\", \"bin\"), (\"ich\", \"bin\"), (\"ich\", \"bin\")]\n",
    "\n",
    "smoothed = kneser_ney_smoothing(bigrams[:10], 0.75, 6)\n",
    "# smoothed = kneser_ney_smoothing(bigrams, 0.75, len(unigram_counter))"
   ]
  },
  {
   "cell_type": "code",
   "execution_count": null,
   "metadata": {},
   "outputs": [],
   "source": [
    "smoothed"
   ]
  },
  {
   "cell_type": "code",
   "execution_count": null,
   "metadata": {},
   "outputs": [],
   "source": [
    "# discount = 0.75\n",
    "# bigram_prob = {}\n",
    "# for bigram, freq in bigram_counter.items():\n",
    "#     w1, w2 = bigram\n",
    "#     if w1 in bigram_prob:\n",
    "#         bigram_prob[bigram] = (freq - discount) / unigram_counter[w1]\n",
    "#     else:\n",
    "#         bigram_prob[bigram] = freq / sum(unigram_counter.values())"
   ]
  },
  {
   "cell_type": "code",
   "execution_count": null,
   "metadata": {},
   "outputs": [],
   "source": [
    "import math\n",
    "\n",
    "\n",
    "def eval_model(model, sentence):\n",
    "    tokens = sentence.split()\n",
    "    bigrams = ngrams(tokens, 2)\n",
    "    \n",
    "    log_prob = 0\n",
    "    for bigram in bigrams:\n",
    "        t_1, t = bigram\n",
    "        \n",
    "        try:\n",
    "            probability = model[t_1][t]\n",
    "        except:\n",
    "            print(\"Prob not found for\", bigram)\n",
    "            probability = 0.00001\n",
    "        \n",
    "        log_prob += math.log(probability)\n",
    "    \n",
    "    log_prob = math.exp(log_prob)\n",
    "    print(f\"Probability for '{sentence}' is: {log_prob}\")\n",
    "    print(\"\\n\\n\")\n",
    "\n",
    "\n",
    "eval_model(bigrams, \"Es ist\")\n"
   ]
  },
  {
   "cell_type": "code",
   "execution_count": null,
   "metadata": {},
   "outputs": [],
   "source": [
    "bigramss = [(\"ich\", \"bin\"), (\"bin\", \"hier\"), (\"hier\", \"um\"), (\"um\", \"zu\"), (\"zu\", \"lernen\"), (\"ich\", \"bin\"), (\"ich\", \"bin\"), (\"ich\", \"bin\")]\n",
    "N = 2\n",
    "vocabulary_size = 6\n",
    "\n",
    "kneser_ney_probabilities = kneser_ney_smoothing(bigramss, N, vocabulary_size)\n",
    "print(kneser_ney_probabilities)"
   ]
  },
  {
   "cell_type": "code",
   "execution_count": null,
   "metadata": {},
   "outputs": [],
   "source": [
    "kneser_ney_probabilities = kneser_ney_smoothing(bigrams, N, 9385290)\n",
    "print(kneser_ney_probabilities[:10])"
   ]
  }
 ],
 "metadata": {
  "kernelspec": {
   "display_name": "venv_nlp",
   "language": "python",
   "name": "python3"
  },
  "language_info": {
   "codemirror_mode": {
    "name": "ipython",
    "version": 3
   },
   "file_extension": ".py",
   "mimetype": "text/x-python",
   "name": "python",
   "nbconvert_exporter": "python",
   "pygments_lexer": "ipython3",
   "version": "3.11.1"
  },
  "orig_nbformat": 4,
  "vscode": {
   "interpreter": {
    "hash": "58e9a580e33e381d18751b4bd6d357b368bf1dd5dbcb6db220004eb9fac133a3"
   }
  }
 },
 "nbformat": 4,
 "nbformat_minor": 2
}
