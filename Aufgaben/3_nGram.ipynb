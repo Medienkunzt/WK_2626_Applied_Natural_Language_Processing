{
 "cells": [
  {
   "cell_type": "code",
   "execution_count": 1,
   "metadata": {},
   "outputs": [],
   "source": [
    "# imports\n",
    "import re"
   ]
  },
  {
   "cell_type": "code",
   "execution_count": 2,
   "metadata": {},
   "outputs": [],
   "source": [
    "# read data\n",
    "with open(\"../Data/Wikipedia1M/Wikipedia1M.txt\", \"r\", encoding=\"utf-8\") as file:\n",
    "    text = file.read()"
   ]
  },
  {
   "cell_type": "code",
   "execution_count": 3,
   "metadata": {},
   "outputs": [],
   "source": [
    "# clean text\n",
    "\n",
    "def clean_text(text):\n",
    "    text = re.sub(r'[^a-zA-Z0-9äöüÄÖÜß.,!?]', ' ', text) # remove all special characters\n",
    "    text = re.sub(r' +', ' ', text) # remove multiple spaces    \n",
    "    text = text.strip() # remove leading and trailing spaces\n",
    "    text = text.lower()\n",
    "    return text"
   ]
  },
  {
   "cell_type": "code",
   "execution_count": 4,
   "metadata": {},
   "outputs": [
    {
     "name": "stdout",
     "output_type": "stream",
     "text": [
      "Tokens: 9385290\n",
      "Sents : 1175980\n"
     ]
    }
   ],
   "source": [
    "from nltk.corpus import stopwords\n",
    "\n",
    "stop_words = set(stopwords.words('german'))\n",
    "\n",
    "# split text into sentences\n",
    "sentences = []\n",
    "\n",
    "token_count = 0\n",
    "for sent in text.split(\".\"):\n",
    "    clean_sent = clean_text(sent)\n",
    "    tokens = clean_sent.split(\" \")\n",
    "    tokens = [t for t in tokens if t not in stop_words]\n",
    "    sentences.append(tokens)\n",
    "    token_count += len(tokens)\n",
    "\n",
    "print(f\"Tokens: {token_count}\")\n",
    "print(f\"Sents : {len(sentences)}\")"
   ]
  },
  {
   "cell_type": "code",
   "execution_count": 5,
   "metadata": {},
   "outputs": [
    {
     "data": {
      "text/plain": [
       "[['0,7', 'prozent', 'stammen', 'zwei', 'mehr', 'ethnien', 'ab'],\n",
       " ['0',\n",
       "  'bedeutet,',\n",
       "  'strahlengang',\n",
       "  'frei',\n",
       "  'ist,',\n",
       "  'füllstand',\n",
       "  'grenze',\n",
       "  'liegt'],\n",
       " ['0', 'kb', ',', 'video', 'icty', 'sitzung', '16'],\n",
       " ['juni', '2005,', 'http', 'hague'],\n",
       " ['0', 'kb', ',', 'video', 'icty', 'sitzung', '20']]"
      ]
     },
     "execution_count": 5,
     "metadata": {},
     "output_type": "execute_result"
    }
   ],
   "source": [
    "sentences[:5]"
   ]
  },
  {
   "cell_type": "code",
   "execution_count": 6,
   "metadata": {},
   "outputs": [
    {
     "name": "stdout",
     "output_type": "stream",
     "text": [
      "[('<s>', '0,7'), ('0,7', 'prozent'), ('prozent', 'stammen'), ('stammen', 'zwei'), ('zwei', 'mehr'), ('mehr', 'ethnien'), ('ethnien', 'ab'), ('ab', '</s>'), ('<s>', '0'), ('0', 'bedeutet,')]\n"
     ]
    }
   ],
   "source": [
    "from nltk import ngrams\n",
    "\n",
    "bigrams = []\n",
    "unigrams = []\n",
    "\n",
    "for sent in sentences:\n",
    "    \n",
    "    if len(sent) < 2:\n",
    "        continue\n",
    "    \n",
    "    sent.insert(0, \"<s>\")\n",
    "    sent.append(\"</s>\")\n",
    "    \n",
    "    tmp_bigrams = list(ngrams(sent, 2))\n",
    "    bigrams += tmp_bigrams\n",
    "    \n",
    "    unigrams += sent\n",
    "\n",
    "print(bigrams[:10])"
   ]
  },
  {
   "cell_type": "code",
   "execution_count": 7,
   "metadata": {},
   "outputs": [
    {
     "data": {
      "text/plain": [
       "[(('s', '</s>'), 13137),\n",
       " (('wurde', '</s>'), 11074),\n",
       " (('<s>', 'seit'), 9323),\n",
       " (('<s>', '000'), 8889),\n",
       " (('<s>', 'jahr'), 8463),\n",
       " (('<s>', 'wurde'), 8356),\n",
       " (('1', '</s>'), 8054),\n",
       " (('<s>', 'jahrhundert'), 6896),\n",
       " (('<s>', 'januar'), 5952),\n",
       " (('<s>', 'dabei'), 5848)]"
      ]
     },
     "execution_count": 7,
     "metadata": {},
     "output_type": "execute_result"
    }
   ],
   "source": [
    "from collections import Counter\n",
    "\n",
    "bigram_counter = Counter(bigrams)\n",
    "bigram_counter.most_common(25)[:10]"
   ]
  },
  {
   "cell_type": "code",
   "execution_count": 8,
   "metadata": {},
   "outputs": [
    {
     "name": "stdout",
     "output_type": "stream",
     "text": [
      "Prob not found for ('Es', 'ist')\n",
      "Probability for 'Es ist' is: 9.999999999999997e-06\n",
      "\n",
      "\n",
      "\n"
     ]
    }
   ],
   "source": [
    "import math\n",
    "\n",
    "\n",
    "def eval_model(model, sentence):\n",
    "    tokens = sentence.split()\n",
    "    bigrams = ngrams(tokens, 2)\n",
    "    \n",
    "    log_prob = 0\n",
    "    for bigram in bigrams:\n",
    "        t_1, t = bigram\n",
    "        \n",
    "        try:\n",
    "            probability = model[t_1][t]\n",
    "        except:\n",
    "            print(\"Prob not found for\", bigram)\n",
    "            probability = 0.00001\n",
    "        \n",
    "        log_prob += math.log(probability)\n",
    "    \n",
    "    log_prob = math.exp(log_prob)\n",
    "    print(f\"Probability for '{sentence}' is: {log_prob}\")\n",
    "    print(\"\\n\\n\")\n",
    "\n",
    "\n",
    "eval_model(bigrams, \"Es ist\")\n"
   ]
  },
  {
   "cell_type": "code",
   "execution_count": 9,
   "metadata": {},
   "outputs": [],
   "source": [
    "from collections import defaultdict\n",
    "\n",
    "def kneser_ney_smoothing(ngrams, N, vocabulary_size):\n",
    "    # Erstelle eine Liste von (N-1)-Grammen\n",
    "    ngrams_count = defaultdict(int)\n",
    "    for ngram in ngrams:\n",
    "        ngrams_count[ngram[:-1]] += 1\n",
    "\n",
    "    # Erstelle eine Liste von N-Grammen, die von jedem (N-1)-Gramm begonnen werden\n",
    "    context_count = defaultdict(int)\n",
    "    for ngram in ngrams:\n",
    "        context_count[ngram[:-1]] += 1\n",
    "\n",
    "    # Berechne die Kneser-Ney Schätzung der Wahrscheinlichkeit von jedem N-Gramm\n",
    "    kneser_ney_probabilities = {}\n",
    "    for ngram in ngrams:\n",
    "        context = ngram[:-1]\n",
    "        # Berechne die Anzahl der N-Gramme, die von dem gleichen (N-1)-Gramm begonnen werden\n",
    "        following = context_count[context]\n",
    "        # Berechne die Häufigkeit des (N-1)-Gramms\n",
    "        count = ngrams_count[context]\n",
    "        # Berechne die Schätzung der Wahrscheinlichkeit mit Kneser-Ney Smoothing\n",
    "        probability = (max(count - N, 0) / count) + (N * following / count * vocabulary_size)\n",
    "        kneser_ney_probabilities[ngram] = probability\n",
    "\n",
    "    return kneser_ney_probabilities"
   ]
  },
  {
   "cell_type": "code",
   "execution_count": 10,
   "metadata": {},
   "outputs": [
    {
     "name": "stdout",
     "output_type": "stream",
     "text": [
      "{('ich', 'bin'): 12.5, ('bin', 'hier'): 12.0, ('hier', 'um'): 12.0, ('um', 'zu'): 12.0, ('zu', 'lernen'): 12.0}\n"
     ]
    }
   ],
   "source": [
    "bigramss = [(\"ich\", \"bin\"), (\"bin\", \"hier\"), (\"hier\", \"um\"), (\"um\", \"zu\"), (\"zu\", \"lernen\"), (\"ich\", \"bin\"), (\"ich\", \"bin\"), (\"ich\", \"bin\")]\n",
    "N = 2\n",
    "vocabulary_size = 6\n",
    "\n",
    "kneser_ney_probabilities = kneser_ney_smoothing(bigramss, N, vocabulary_size)\n",
    "print(kneser_ney_probabilities)"
   ]
  },
  {
   "cell_type": "code",
   "execution_count": 11,
   "metadata": {},
   "outputs": [
    {
     "ename": "TypeError",
     "evalue": "unhashable type: 'slice'",
     "output_type": "error",
     "traceback": [
      "\u001b[1;31m---------------------------------------------------------------------------\u001b[0m",
      "\u001b[1;31mTypeError\u001b[0m                                 Traceback (most recent call last)",
      "Cell \u001b[1;32mIn[11], line 2\u001b[0m\n\u001b[0;32m      1\u001b[0m kneser_ney_probabilities \u001b[39m=\u001b[39m kneser_ney_smoothing(bigrams, N, \u001b[39m9385290\u001b[39m)\n\u001b[1;32m----> 2\u001b[0m \u001b[39mprint\u001b[39m(kneser_ney_probabilities[:\u001b[39m10\u001b[39;49m])\n",
      "\u001b[1;31mTypeError\u001b[0m: unhashable type: 'slice'"
     ]
    }
   ],
   "source": [
    "kneser_ney_probabilities = kneser_ney_smoothing(bigrams, N, 9385290)\n",
    "print(kneser_ney_probabilities[:10])"
   ]
  }
 ],
 "metadata": {
  "kernelspec": {
   "display_name": "venv_nlp",
   "language": "python",
   "name": "python3"
  },
  "language_info": {
   "codemirror_mode": {
    "name": "ipython",
    "version": 3
   },
   "file_extension": ".py",
   "mimetype": "text/x-python",
   "name": "python",
   "nbconvert_exporter": "python",
   "pygments_lexer": "ipython3",
   "version": "3.11.1"
  },
  "orig_nbformat": 4,
  "vscode": {
   "interpreter": {
    "hash": "58e9a580e33e381d18751b4bd6d357b368bf1dd5dbcb6db220004eb9fac133a3"
   }
  }
 },
 "nbformat": 4,
 "nbformat_minor": 2
}
