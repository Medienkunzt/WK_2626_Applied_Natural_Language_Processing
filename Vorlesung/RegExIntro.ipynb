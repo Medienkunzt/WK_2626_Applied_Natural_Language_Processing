{
 "cells": [
  {
   "cell_type": "markdown",
   "metadata": {},
   "source": [
    "# Regular Expressions in Python"
   ]
  },
  {
   "cell_type": "markdown",
   "metadata": {},
   "source": [
    "\n",
    "Image you want to find certain substrings in a python string."
   ]
  },
  {
   "cell_type": "code",
   "execution_count": 4,
   "metadata": {},
   "outputs": [],
   "source": [
    "my_str = \"test123xyz\""
   ]
  },
  {
   "cell_type": "code",
   "execution_count": null,
   "metadata": {},
   "outputs": [],
   "source": [
    "\"123\" in my_str"
   ]
  },
  {
   "cell_type": "code",
   "execution_count": null,
   "metadata": {},
   "outputs": [],
   "source": [
    "print(my_str.index(\"123\"))\n",
    "print(my_str.find(\"123\"))"
   ]
  },
  {
   "cell_type": "code",
   "execution_count": null,
   "metadata": {},
   "outputs": [],
   "source": [
    "my_str.index(\"456\")"
   ]
  },
  {
   "cell_type": "markdown",
   "metadata": {},
   "source": [
    "How to handle arbitrary and more general searches. For example if you want to find \n",
    "all digits of length 3 in a string. Here, regular expressions come in handy.\n",
    "\n",
    "## Usage\n",
    "To make use of regular expressions in Python, simply import the `re` module."
   ]
  },
  {
   "cell_type": "code",
   "execution_count": 2,
   "metadata": {},
   "outputs": [
    {
     "name": "stdout",
     "output_type": "stream",
     "text": [
      "2.2.1\n"
     ]
    }
   ],
   "source": [
    "import re\n",
    "print(re.__version__)"
   ]
  },
  {
   "cell_type": "markdown",
   "metadata": {},
   "source": [
    "As a start, we focus on the `re.search()` method.\n",
    "This method has the signature `search(<regex>, <string>)` and searches for a given pattern in a string.\n",
    "If a match is found, a `MatchObject` is returned. If the pattern is not found, `None` is returned. The `regex` value can be a string or a [Pattern](https://docs.python.org/3/library/re.html#re-objects).\n",
    "More on the [Match object](https://docs.python.org/3/library/re.html#match-objects) and on _Pattern_ later."
   ]
  },
  {
   "cell_type": "code",
   "execution_count": null,
   "metadata": {},
   "outputs": [],
   "source": [
    "re.search('123', my_str)  # Returns a Match object"
   ]
  },
  {
   "cell_type": "code",
   "execution_count": null,
   "metadata": {},
   "outputs": [],
   "source": [
    "result = re.search('456', my_str)  # Returns None (not displayed)\n",
    "print(result)"
   ]
  },
  {
   "cell_type": "code",
   "execution_count": null,
   "metadata": {},
   "outputs": [],
   "source": [
    "# Also, Match objects are 'thruthy', which means they evaluate to True\n",
    "print(f\"My string is: '{my_str}' \\n\")\n",
    "for pattern in [\"123\", \"456\"]:\n",
    "    print(f\"Current pattern: '{pattern}'\")\n",
    "    \n",
    "    if re.search(pattern, my_str):\n",
    "        print(\"Yay, match found!\")\n",
    "    else:\n",
    "        print(\"No match :(\")\n",
    "    \n",
    "    print(\"\")"
   ]
  },
  {
   "cell_type": "markdown",
   "metadata": {},
   "source": [
    "This is not really advanced right now. The power of regex comes with the _metacharacters_. \n",
    "These metacharacters have a special meaning to the regex engine. The first we want to take a look at is the **character class** `[]`.\n"
   ]
  },
  {
   "cell_type": "code",
   "execution_count": null,
   "metadata": {},
   "outputs": [],
   "source": [
    "re.search(\"[0-9]\", my_str)"
   ]
  },
  {
   "cell_type": "code",
   "execution_count": null,
   "metadata": {},
   "outputs": [],
   "source": [
    "re.search(\"[0-9][0-9][0-9]\", my_str)"
   ]
  },
  {
   "cell_type": "markdown",
   "metadata": {},
   "source": [
    "This looks somewhat impractical. But we can specify a rule for repetitions."
   ]
  },
  {
   "cell_type": "markdown",
   "metadata": {},
   "source": [
    "## Quantifier and Alternation"
   ]
  },
  {
   "cell_type": "code",
   "execution_count": 5,
   "metadata": {},
   "outputs": [
    {
     "data": {
      "text/plain": [
       "<re.Match object; span=(0, 1), match='t'>"
      ]
     },
     "execution_count": 5,
     "metadata": {},
     "output_type": "execute_result"
    }
   ],
   "source": [
    "re.search(\"[a-z]\", my_str)  # a character from a-z\n",
    "re.search(\"[A-Z]\", my_str)  # a character from A-Z\n",
    "re.search(\"[a-zA-Z]\", my_str)  # a character from a-z or A-Z\n",
    "re.search(\"[a-zA-Z0-5]\", my_str)  # a character from a-z or A-Z or a digit between 0 and 5"
   ]
  },
  {
   "cell_type": "code",
   "execution_count": null,
   "metadata": {},
   "outputs": [],
   "source": [
    "re.search(\"[0-9]*\", my_str)  # 0 or more\n",
    "re.search(\"[0-9]+\", my_str)  # 1 or more\n",
    "re.search(\"[0-9]?\", my_str)  # 0 or 1"
   ]
  },
  {
   "cell_type": "code",
   "execution_count": null,
   "metadata": {},
   "outputs": [],
   "source": [
    "re.search(\"[0-9]{2}\", my_str)  # exactly two\n",
    "re.search(\"[0-9]{2,}\", my_str)  # two or more\n",
    "re.search(\"[0-9]{1,3}\", my_str)  # between one & three\n",
    "re.search(\"[0-9]+?\", my_str) # match as few as possible\n",
    "re.search(\"[0-9]|[a-z]\", my_str)  # match 0-9 or a-z"
   ]
  },
  {
   "cell_type": "markdown",
   "metadata": {},
   "source": [
    "## Character classes\n",
    "We left the **character_classes** at the `[]` example. But there are more.\n",
    "\n",
    "- `.`\tany character except newline\n",
    "- `\\w` `\\d` `\\s`\tword, digit, whitespace\n",
    "- `\\W` `\\D\\` `S`\tnot word, digit, whitespace\n",
    "- `[abc]`\tany of a, b, or c\n",
    "- `[^abc]`\tnot a, b, or c\n",
    "- `[a-g]`\tcharacter between a & g\n",
    "\n",
    "Lets take a closer look at each of these."
   ]
  },
  {
   "cell_type": "code",
   "execution_count": null,
   "metadata": {},
   "outputs": [],
   "source": [
    "print(re.search(\".\", my_str))  # should match \"t\"\n",
    "print(re.search(\"1.3\", my_str))  # Should match 123 (1 -> any character -> 3)"
   ]
  },
  {
   "cell_type": "code",
   "execution_count": null,
   "metadata": {},
   "outputs": [],
   "source": [
    "re.search(\"test.\", my_str)  # should match \"test\" followed by 1 character of any type"
   ]
  },
  {
   "cell_type": "markdown",
   "metadata": {},
   "source": [
    "`\\w` is shorthand for `[a-zA-Z0-9_]`, thus is matches alphanumerical characters and the unserscore.  \n",
    "`\\W` the 'capital' version of it is the negation, which means it does not match a alphanumerical character"
   ]
  },
  {
   "cell_type": "code",
   "execution_count": null,
   "metadata": {},
   "outputs": [],
   "source": [
    "print(re.search(\"\\w\", \"#*a)x\"))  # should match \"a\"\n",
    "print(re.search(\"\\W\", \"aeiou#*a)x\"))  # should match \"#\"\n",
    "\n",
    "\n",
    "# The \\w pattern might be interesting for tokenization"
   ]
  },
  {
   "cell_type": "code",
   "execution_count": null,
   "metadata": {},
   "outputs": [],
   "source": [
    "# \\d matches a digit,  \\D matches non-digit characters\n",
    "print(re.search(\"\\d\", my_str))  # should match \"1\")\n",
    "print(re.search(\"\\D\", my_str))  # should match \"1\")"
   ]
  },
  {
   "cell_type": "markdown",
   "metadata": {},
   "source": [
    "`\\s` matches all whitespace characters. This includes regular whitespaces (space), tabulator spaces and new lines!\n",
    "`\\S` is the negation and does not match whitespace characters"
   ]
  },
  {
   "cell_type": "code",
   "execution_count": null,
   "metadata": {},
   "outputs": [],
   "source": [
    "print(re.search(\"\\s\", \"noWhitespaceHere\"))  \n",
    "print(re.search(\"\\s\", \"Start Stop\"))  \n",
    "print(re.search(\"\\s\", \"SomeString\\n\"))  \n",
    "print(re.search(\"\\s\", \"hereComesATab\tThereItWas\"))  "
   ]
  },
  {
   "cell_type": "markdown",
   "metadata": {},
   "source": [
    "## More Metacharacters\n",
    "\n",
    "- `.`\tMatches any single character except newline\n",
    "- `^`\t- \n",
    "        - Anchors a match at the start of a string. \n",
    "        - Complements a character class\n",
    "- `$`\tAnchors a match at the end of a string\n",
    "- `*`\tMatches zero or more repetitions\n",
    "- `+`\tMatches one or more repetitions\n",
    "- `?`\t\n",
    "        - Matches zero or one repetition\n",
    "        - Specifies the non-greedy versions of *, +, and ?\n",
    "        - Introduces a lookahead or lookbehind assertion\n",
    "        - Creates a named group\n",
    "- `{}`\tMatches an explicitly specified number of repetitions\n",
    "- `\\`\t\n",
    "        - Escapes a metacharacter of its special meaning\n",
    "        - Introduces a special character class\n",
    "        - Introduces a grouping backreference\n",
    "- `[]`\tSpecifies a character class\n",
    "- `|`\tDesignates alternation\n",
    "- `()`\tCreates a group\n",
    "- `:`   Designates a specialized group\n",
    "- `#`   Designates a specialized group\n",
    "- `=`   Designates a specialized group\n",
    "- `!`\tDesignates a specialized group\n",
    "- `<>`\tCreates a named group\n"
   ]
  },
  {
   "cell_type": "code",
   "execution_count": null,
   "metadata": {},
   "outputs": [],
   "source": [
    "#  ^   Start of a string\n",
    "\n",
    "print(re.search(\"^t\", my_str))  # 't' is the first character anyway\n",
    "print(re.search(\"e\", my_str))  # e is found at index 1 (to 2)\n",
    "print(re.search(\"^e\", my_str))  # not found"
   ]
  },
  {
   "cell_type": "code",
   "execution_count": null,
   "metadata": {},
   "outputs": [],
   "source": [
    "#  $  End of a string\n",
    "\n",
    "print(re.search(\"z$\", my_str))  # 'z' is the last character\n",
    "print(re.search(\"y$\", my_str))  # 'y' is not matched, not end of string\n",
    "\n",
    "print(re.search(\"test\", \"test123test\"))\n",
    "print(re.search(\"test$\", \"test123test\"))  # Take a look at the matched indices"
   ]
  },
  {
   "cell_type": "code",
   "execution_count": null,
   "metadata": {},
   "outputs": [],
   "source": [
    "#  \\   Escape metachars\n",
    "print(re.search(\"[hey]\", \"test[hey]test\"))  # This matches \"e\" at index 1\n",
    "\n",
    "# But what if we want to match the string '[hey]'?\n",
    "print(re.search(\"\\[hey\\]\", \"test[hey]test\"))"
   ]
  },
  {
   "cell_type": "code",
   "execution_count": null,
   "metadata": {},
   "outputs": [],
   "source": [
    "# What about backslashes?\n",
    "print(re.search(\"\\\\\", \"C:\\dev\"))"
   ]
  },
  {
   "cell_type": "code",
   "execution_count": null,
   "metadata": {},
   "outputs": [],
   "source": [
    "# The interpreter sees a backslash and then a backslash escaping the qoutation mark \" \n",
    "# We have to use raw python strings.\n",
    "\n",
    "# What about backslashes?\n",
    "print(re.search(r\"\\\\\", \"C:\\dev\"))  # This matches the \\ after the colon"
   ]
  },
  {
   "cell_type": "markdown",
   "metadata": {},
   "source": [
    "## \\b\n",
    "Anchors to word boundaries. A word is defined by only alphanumerical characters, such as in `\\w`"
   ]
  },
  {
   "cell_type": "code",
   "execution_count": null,
   "metadata": {},
   "outputs": [],
   "source": [
    "print(re.search(r\"\\bmyword\", \" myword \"))\n",
    "print(re.search(r\"\\bmyword\", \"myword\"))\n",
    "print(re.search(r\"\\bmyword\", \"123myword.\"))\n",
    "print(re.search(r\"\\bmyword\\b\", \"123myword.\"))\n",
    "\n",
    "# This might be practical for tokenizers"
   ]
  },
  {
   "cell_type": "markdown",
   "metadata": {},
   "source": [
    "## Grouping and Backreferences\n",
    "\n",
    "In a _group_, you can combine multiple search patterns and metacharacters.\n",
    "For example:\n",
    "- `r\"hallo+\"`  would match 'hall' and the 'o' one or more times\n",
    "- `r\"(hallo)+\"` would match one or more occurences of \"hallo\"\n",
    "\n",
    "\n",
    "Also, it is possible to use any kind of metacharacters and character classes, for example:\n",
    "`r\"(test[0-9]{0,3})+\"`\n"
   ]
  },
  {
   "cell_type": "code",
   "execution_count": null,
   "metadata": {},
   "outputs": [],
   "source": [
    "print(re.search(r\"(test[0-9]{3})+\", \"test12\"))\n",
    "print(re.search(r\"(test[0-9]{3})+\", \"test555\"))\n",
    "print(re.search(r\"(test[0-9]{3})+\", \"testABC\"))"
   ]
  },
  {
   "cell_type": "markdown",
   "metadata": {},
   "source": [
    "Grouping or groups also generates _capturings_ for the matched tokens.\n",
    "For example, if we have pattern with multiple groups that match a string, for each group a _capturing_ is created."
   ]
  },
  {
   "cell_type": "code",
   "execution_count": null,
   "metadata": {},
   "outputs": [],
   "source": [
    "m = re.search('(\\w+),(\\w+),(\\w+)', 'Max,Moritz,Müller')\n",
    "print(m)\n",
    "print(m.groups())"
   ]
  },
  {
   "cell_type": "code",
   "execution_count": null,
   "metadata": {},
   "outputs": [],
   "source": [
    "# Backreferencing\n",
    "\n",
    "print(re.search(r\"([a-d])\\1\", \"abcdaabbccdd\"))\n",
    "print(re.search(r\"([a-d])\\1{3}\", \"abcdaabbccdd\"))\n",
    "print(re.search(r\"([a-d])\\1{3}\", \"abcdaabbbccccdd\"))  \n",
    "# \"Match a sequence of a character between a and d that occures 4 times in a row\"\n",
    "\n",
    "\n",
    "print(re.search(r\"([a-d]){3}\", \"abcdaabbbccccdd\"))"
   ]
  },
  {
   "cell_type": "code",
   "execution_count": null,
   "metadata": {},
   "outputs": [],
   "source": [
    "# (?:<regex>)  non-capturing group\n",
    "# (?=<lookahead_regex>)  lookahead regex\n",
    "# (?!<lookahead_regex>)  negative lookahead\n",
    "# (?<=<lookbehind_regex>)  lookbehind"
   ]
  },
  {
   "cell_type": "markdown",
   "metadata": {},
   "source": [
    "## More re functions\n",
    "\n",
    "- `re.match()`\n",
    "- `re.fullmatch()`\n",
    "- `re.split()`\n",
    "- `re.findall()`\n",
    "- `re.finditer()`\n",
    "- `re.sub()`\n"
   ]
  },
  {
   "cell_type": "markdown",
   "metadata": {},
   "source": [
    "## Match Object\n",
    "\n",
    "[Documentation](https://docs.python.org/3/library/re.html#match-objects)\n",
    "\n"
   ]
  },
  {
   "cell_type": "markdown",
   "metadata": {},
   "source": [
    "## regex compiling\n",
    "Gives some performance benefits when a pattern is used multiple times\n",
    "\n",
    "```python\n",
    "compiled_regex = re.compile(r\"\\w\\s+\")\n",
    "\n",
    "for sentence in awfully_many_sentences:\n",
    "    matches = compiled_regex.search(sentence)\n",
    "    \n",
    "    # do something with matches\n",
    "\n",
    "```\n",
    "\n",
    "has a way better performance than\n",
    "```python\n",
    "for sentence in awfully_many_sentences:\n",
    "    matches = re.search(r\"\\w\\s+\", sentence)\n",
    "    \n",
    "    # do something with matches\n",
    "\n",
    "```"
   ]
  },
  {
   "cell_type": "markdown",
   "metadata": {},
   "source": [
    "## Regular Expression Flags\n",
    "\n",
    "(tbd)"
   ]
  },
  {
   "cell_type": "markdown",
   "metadata": {},
   "source": [
    "## Some usage examples"
   ]
  },
  {
   "cell_type": "code",
   "execution_count": null,
   "metadata": {},
   "outputs": [],
   "source": [
    "# ZIP code matcher (german)\n",
    "regex = r\"^([0]{1}[1-9]{1}|[1-9]{1}[0-9]{1})[0-9]{3}$\"\n",
    "\n",
    "print(re.search(regex, \"12345\"))\n",
    "print(re.search(regex, \"77777\"))\n",
    "print(re.search(regex, \"6306\"))\n",
    "print(re.search(regex, \"35390\"))"
   ]
  },
  {
   "cell_type": "code",
   "execution_count": null,
   "metadata": {},
   "outputs": [],
   "source": [
    "# URL matcher\n",
    "regex = r\"https?:\\/\\/(www\\.)?[-a-zA-Z0-9@:%._\\+~#=]{1,256}\\.[a-zA-Z0-9()]{1,6}\\b([-a-zA-Z0-9()@:%_\\+.~#?&//=]*)\"\n",
    "\n",
    "print(re.search(regex, \"www.google.de\"))\n",
    "print(re.search(regex, \"http://www.google.de\"))\n",
    "print(re.search(regex, \"google.de\"))\n",
    "print(re.search(regex, \"http://www.google\"))"
   ]
  },
  {
   "cell_type": "code",
   "execution_count": null,
   "metadata": {},
   "outputs": [],
   "source": [
    "# Email matcher\n",
    "# http://www.ex-parrot.com/~pdw/Mail-RFC822-Address.html\n",
    "# https://stackoverflow.com/questions/201323/how-can-i-validate-an-email-address-using-a-regular-expression\n",
    "\n",
    "# Mail::RFC822::Address: regexp-based address validation\n",
    "\n",
    "\"\"\"\n",
    "regex = r\"(?:(?:\\r\\n)?[ \\t])*(?:(?:(?:[^()<>@,;:\\\\\".\\[\\] \\000-\\031]+(?:(?:(?:\\r\\n)?[ \\t]\n",
    ")+|\\Z|(?=[\\[\"()<>@,;:\\\\\".\\[\\]]))|\"(?:[^\\\"\\r\\\\]|\\\\.|(?:(?:\\r\\n)?[ \\t]))*\"(?:(?:\n",
    "\\r\\n)?[ \\t])*)(?:\\.(?:(?:\\r\\n)?[ \\t])*(?:[^()<>@,;:\\\\\".\\[\\] \\000-\\031]+(?:(?:(\n",
    "?:\\r\\n)?[ \\t])+|\\Z|(?=[\\[\"()<>@,;:\\\\\".\\[\\]]))|\"(?:[^\\\"\\r\\\\]|\\\\.|(?:(?:\\r\\n)?[ \n",
    "\\t]))*\"(?:(?:\\r\\n)?[ \\t])*))*@(?:(?:\\r\\n)?[ \\t])*(?:[^()<>@,;:\\\\\".\\[\\] \\000-\\0\n",
    "31]+(?:(?:(?:\\r\\n)?[ \\t])+|\\Z|(?=[\\[\"()<>@,;:\\\\\".\\[\\]]))|\\[([^\\[\\]\\r\\\\]|\\\\.)*\\\n",
    "](?:(?:\\r\\n)?[ \\t])*)(?:\\.(?:(?:\\r\\n)?[ \\t])*(?:[^()<>@,;:\\\\\".\\[\\] \\000-\\031]+\n",
    "(?:(?:(?:\\r\\n)?[ \\t])+|\\Z|(?=[\\[\"()<>@,;:\\\\\".\\[\\]]))|\\[([^\\[\\]\\r\\\\]|\\\\.)*\\](?:\n",
    "(?:\\r\\n)?[ \\t])*))*|(?:[^()<>@,;:\\\\\".\\[\\] \\000-\\031]+(?:(?:(?:\\r\\n)?[ \\t])+|\\Z\n",
    "|(?=[\\[\"()<>@,;:\\\\\".\\[\\]]))|\"(?:[^\\\"\\r\\\\]|\\\\.|(?:(?:\\r\\n)?[ \\t]))*\"(?:(?:\\r\\n)\n",
    "?[ \\t])*)*\\<(?:(?:\\r\\n)?[ \\t])*(?:@(?:[^()<>@,;:\\\\\".\\[\\] \\000-\\031]+(?:(?:(?:\\\n",
    "r\\n)?[ \\t])+|\\Z|(?=[\\[\"()<>@,;:\\\\\".\\[\\]]))|\\[([^\\[\\]\\r\\\\]|\\\\.)*\\](?:(?:\\r\\n)?[\n",
    " \\t])*)(?:\\.(?:(?:\\r\\n)?[ \\t])*(?:[^()<>@,;:\\\\\".\\[\\] \\000-\\031]+(?:(?:(?:\\r\\n)\n",
    "?[ \\t])+|\\Z|(?=[\\[\"()<>@,;:\\\\\".\\[\\]]))|\\[([^\\[\\]\\r\\\\]|\\\\.)*\\](?:(?:\\r\\n)?[ \\t]\n",
    ")*))*(?:,@(?:(?:\\r\\n)?[ \\t])*(?:[^()<>@,;:\\\\\".\\[\\] \\000-\\031]+(?:(?:(?:\\r\\n)?[\n",
    " \\t])+|\\Z|(?=[\\[\"()<>@,;:\\\\\".\\[\\]]))|\\[([^\\[\\]\\r\\\\]|\\\\.)*\\](?:(?:\\r\\n)?[ \\t])*\n",
    ")(?:\\.(?:(?:\\r\\n)?[ \\t])*(?:[^()<>@,;:\\\\\".\\[\\] \\000-\\031]+(?:(?:(?:\\r\\n)?[ \\t]\n",
    ")+|\\Z|(?=[\\[\"()<>@,;:\\\\\".\\[\\]]))|\\[([^\\[\\]\\r\\\\]|\\\\.)*\\](?:(?:\\r\\n)?[ \\t])*))*)\n",
    "*:(?:(?:\\r\\n)?[ \\t])*)?(?:[^()<>@,;:\\\\\".\\[\\] \\000-\\031]+(?:(?:(?:\\r\\n)?[ \\t])+\n",
    "|\\Z|(?=[\\[\"()<>@,;:\\\\\".\\[\\]]))|\"(?:[^\\\"\\r\\\\]|\\\\.|(?:(?:\\r\\n)?[ \\t]))*\"(?:(?:\\r\n",
    "\\n)?[ \\t])*)(?:\\.(?:(?:\\r\\n)?[ \\t])*(?:[^()<>@,;:\\\\\".\\[\\] \\000-\\031]+(?:(?:(?:\n",
    "\\r\\n)?[ \\t])+|\\Z|(?=[\\[\"()<>@,;:\\\\\".\\[\\]]))|\"(?:[^\\\"\\r\\\\]|\\\\.|(?:(?:\\r\\n)?[ \\t\n",
    "]))*\"(?:(?:\\r\\n)?[ \\t])*))*@(?:(?:\\r\\n)?[ \\t])*(?:[^()<>@,;:\\\\\".\\[\\] \\000-\\031\n",
    "]+(?:(?:(?:\\r\\n)?[ \\t])+|\\Z|(?=[\\[\"()<>@,;:\\\\\".\\[\\]]))|\\[([^\\[\\]\\r\\\\]|\\\\.)*\\](\n",
    "?:(?:\\r\\n)?[ \\t])*)(?:\\.(?:(?:\\r\\n)?[ \\t])*(?:[^()<>@,;:\\\\\".\\[\\] \\000-\\031]+(?\n",
    ":(?:(?:\\r\\n)?[ \\t])+|\\Z|(?=[\\[\"()<>@,;:\\\\\".\\[\\]]))|\\[([^\\[\\]\\r\\\\]|\\\\.)*\\](?:(?\n",
    ":\\r\\n)?[ \\t])*))*\\>(?:(?:\\r\\n)?[ \\t])*)|(?:[^()<>@,;:\\\\\".\\[\\] \\000-\\031]+(?:(?\n",
    ":(?:\\r\\n)?[ \\t])+|\\Z|(?=[\\[\"()<>@,;:\\\\\".\\[\\]]))|\"(?:[^\\\"\\r\\\\]|\\\\.|(?:(?:\\r\\n)?\n",
    "[ \\t]))*\"(?:(?:\\r\\n)?[ \\t])*)*:(?:(?:\\r\\n)?[ \\t])*(?:(?:(?:[^()<>@,;:\\\\\".\\[\\] \n",
    "\\000-\\031]+(?:(?:(?:\\r\\n)?[ \\t])+|\\Z|(?=[\\[\"()<>@,;:\\\\\".\\[\\]]))|\"(?:[^\\\"\\r\\\\]|\n",
    "\\\\.|(?:(?:\\r\\n)?[ \\t]))*\"(?:(?:\\r\\n)?[ \\t])*)(?:\\.(?:(?:\\r\\n)?[ \\t])*(?:[^()<>\n",
    "@,;:\\\\\".\\[\\] \\000-\\031]+(?:(?:(?:\\r\\n)?[ \\t])+|\\Z|(?=[\\[\"()<>@,;:\\\\\".\\[\\]]))|\"\n",
    "(?:[^\\\"\\r\\\\]|\\\\.|(?:(?:\\r\\n)?[ \\t]))*\"(?:(?:\\r\\n)?[ \\t])*))*@(?:(?:\\r\\n)?[ \\t]\n",
    ")*(?:[^()<>@,;:\\\\\".\\[\\] \\000-\\031]+(?:(?:(?:\\r\\n)?[ \\t])+|\\Z|(?=[\\[\"()<>@,;:\\\\\n",
    "\".\\[\\]]))|\\[([^\\[\\]\\r\\\\]|\\\\.)*\\](?:(?:\\r\\n)?[ \\t])*)(?:\\.(?:(?:\\r\\n)?[ \\t])*(?\n",
    ":[^()<>@,;:\\\\\".\\[\\] \\000-\\031]+(?:(?:(?:\\r\\n)?[ \\t])+|\\Z|(?=[\\[\"()<>@,;:\\\\\".\\[\n",
    "\\]]))|\\[([^\\[\\]\\r\\\\]|\\\\.)*\\](?:(?:\\r\\n)?[ \\t])*))*|(?:[^()<>@,;:\\\\\".\\[\\] \\000-\n",
    "\\031]+(?:(?:(?:\\r\\n)?[ \\t])+|\\Z|(?=[\\[\"()<>@,;:\\\\\".\\[\\]]))|\"(?:[^\\\"\\r\\\\]|\\\\.|(\n",
    "?:(?:\\r\\n)?[ \\t]))*\"(?:(?:\\r\\n)?[ \\t])*)*\\<(?:(?:\\r\\n)?[ \\t])*(?:@(?:[^()<>@,;\n",
    ":\\\\\".\\[\\] \\000-\\031]+(?:(?:(?:\\r\\n)?[ \\t])+|\\Z|(?=[\\[\"()<>@,;:\\\\\".\\[\\]]))|\\[([\n",
    "^\\[\\]\\r\\\\]|\\\\.)*\\](?:(?:\\r\\n)?[ \\t])*)(?:\\.(?:(?:\\r\\n)?[ \\t])*(?:[^()<>@,;:\\\\\"\n",
    ".\\[\\] \\000-\\031]+(?:(?:(?:\\r\\n)?[ \\t])+|\\Z|(?=[\\[\"()<>@,;:\\\\\".\\[\\]]))|\\[([^\\[\\\n",
    "]\\r\\\\]|\\\\.)*\\](?:(?:\\r\\n)?[ \\t])*))*(?:,@(?:(?:\\r\\n)?[ \\t])*(?:[^()<>@,;:\\\\\".\\\n",
    "[\\] \\000-\\031]+(?:(?:(?:\\r\\n)?[ \\t])+|\\Z|(?=[\\[\"()<>@,;:\\\\\".\\[\\]]))|\\[([^\\[\\]\\\n",
    "r\\\\]|\\\\.)*\\](?:(?:\\r\\n)?[ \\t])*)(?:\\.(?:(?:\\r\\n)?[ \\t])*(?:[^()<>@,;:\\\\\".\\[\\] \n",
    "\\000-\\031]+(?:(?:(?:\\r\\n)?[ \\t])+|\\Z|(?=[\\[\"()<>@,;:\\\\\".\\[\\]]))|\\[([^\\[\\]\\r\\\\]\n",
    "|\\\\.)*\\](?:(?:\\r\\n)?[ \\t])*))*)*:(?:(?:\\r\\n)?[ \\t])*)?(?:[^()<>@,;:\\\\\".\\[\\] \\0\n",
    "00-\\031]+(?:(?:(?:\\r\\n)?[ \\t])+|\\Z|(?=[\\[\"()<>@,;:\\\\\".\\[\\]]))|\"(?:[^\\\"\\r\\\\]|\\\\\n",
    ".|(?:(?:\\r\\n)?[ \\t]))*\"(?:(?:\\r\\n)?[ \\t])*)(?:\\.(?:(?:\\r\\n)?[ \\t])*(?:[^()<>@,\n",
    ";:\\\\\".\\[\\] \\000-\\031]+(?:(?:(?:\\r\\n)?[ \\t])+|\\Z|(?=[\\[\"()<>@,;:\\\\\".\\[\\]]))|\"(?\n",
    ":[^\\\"\\r\\\\]|\\\\.|(?:(?:\\r\\n)?[ \\t]))*\"(?:(?:\\r\\n)?[ \\t])*))*@(?:(?:\\r\\n)?[ \\t])*\n",
    "(?:[^()<>@,;:\\\\\".\\[\\] \\000-\\031]+(?:(?:(?:\\r\\n)?[ \\t])+|\\Z|(?=[\\[\"()<>@,;:\\\\\".\n",
    "\\[\\]]))|\\[([^\\[\\]\\r\\\\]|\\\\.)*\\](?:(?:\\r\\n)?[ \\t])*)(?:\\.(?:(?:\\r\\n)?[ \\t])*(?:[\n",
    "^()<>@,;:\\\\\".\\[\\] \\000-\\031]+(?:(?:(?:\\r\\n)?[ \\t])+|\\Z|(?=[\\[\"()<>@,;:\\\\\".\\[\\]\n",
    "]))|\\[([^\\[\\]\\r\\\\]|\\\\.)*\\](?:(?:\\r\\n)?[ \\t])*))*\\>(?:(?:\\r\\n)?[ \\t])*)(?:,\\s*(\n",
    "?:(?:[^()<>@,;:\\\\\".\\[\\] \\000-\\031]+(?:(?:(?:\\r\\n)?[ \\t])+|\\Z|(?=[\\[\"()<>@,;:\\\\\n",
    "\".\\[\\]]))|\"(?:[^\\\"\\r\\\\]|\\\\.|(?:(?:\\r\\n)?[ \\t]))*\"(?:(?:\\r\\n)?[ \\t])*)(?:\\.(?:(\n",
    "?:\\r\\n)?[ \\t])*(?:[^()<>@,;:\\\\\".\\[\\] \\000-\\031]+(?:(?:(?:\\r\\n)?[ \\t])+|\\Z|(?=[\n",
    "\\[\"()<>@,;:\\\\\".\\[\\]]))|\"(?:[^\\\"\\r\\\\]|\\\\.|(?:(?:\\r\\n)?[ \\t]))*\"(?:(?:\\r\\n)?[ \\t\n",
    "])*))*@(?:(?:\\r\\n)?[ \\t])*(?:[^()<>@,;:\\\\\".\\[\\] \\000-\\031]+(?:(?:(?:\\r\\n)?[ \\t\n",
    "])+|\\Z|(?=[\\[\"()<>@,;:\\\\\".\\[\\]]))|\\[([^\\[\\]\\r\\\\]|\\\\.)*\\](?:(?:\\r\\n)?[ \\t])*)(?\n",
    ":\\.(?:(?:\\r\\n)?[ \\t])*(?:[^()<>@,;:\\\\\".\\[\\] \\000-\\031]+(?:(?:(?:\\r\\n)?[ \\t])+|\n",
    "\\Z|(?=[\\[\"()<>@,;:\\\\\".\\[\\]]))|\\[([^\\[\\]\\r\\\\]|\\\\.)*\\](?:(?:\\r\\n)?[ \\t])*))*|(?:\n",
    "[^()<>@,;:\\\\\".\\[\\] \\000-\\031]+(?:(?:(?:\\r\\n)?[ \\t])+|\\Z|(?=[\\[\"()<>@,;:\\\\\".\\[\\\n",
    "]]))|\"(?:[^\\\"\\r\\\\]|\\\\.|(?:(?:\\r\\n)?[ \\t]))*\"(?:(?:\\r\\n)?[ \\t])*)*\\<(?:(?:\\r\\n)\n",
    "?[ \\t])*(?:@(?:[^()<>@,;:\\\\\".\\[\\] \\000-\\031]+(?:(?:(?:\\r\\n)?[ \\t])+|\\Z|(?=[\\[\"\n",
    "()<>@,;:\\\\\".\\[\\]]))|\\[([^\\[\\]\\r\\\\]|\\\\.)*\\](?:(?:\\r\\n)?[ \\t])*)(?:\\.(?:(?:\\r\\n)\n",
    "?[ \\t])*(?:[^()<>@,;:\\\\\".\\[\\] \\000-\\031]+(?:(?:(?:\\r\\n)?[ \\t])+|\\Z|(?=[\\[\"()<>\n",
    "@,;:\\\\\".\\[\\]]))|\\[([^\\[\\]\\r\\\\]|\\\\.)*\\](?:(?:\\r\\n)?[ \\t])*))*(?:,@(?:(?:\\r\\n)?[\n",
    " \\t])*(?:[^()<>@,;:\\\\\".\\[\\] \\000-\\031]+(?:(?:(?:\\r\\n)?[ \\t])+|\\Z|(?=[\\[\"()<>@,\n",
    ";:\\\\\".\\[\\]]))|\\[([^\\[\\]\\r\\\\]|\\\\.)*\\](?:(?:\\r\\n)?[ \\t])*)(?:\\.(?:(?:\\r\\n)?[ \\t]\n",
    ")*(?:[^()<>@,;:\\\\\".\\[\\] \\000-\\031]+(?:(?:(?:\\r\\n)?[ \\t])+|\\Z|(?=[\\[\"()<>@,;:\\\\\n",
    "\".\\[\\]]))|\\[([^\\[\\]\\r\\\\]|\\\\.)*\\](?:(?:\\r\\n)?[ \\t])*))*)*:(?:(?:\\r\\n)?[ \\t])*)?\n",
    "(?:[^()<>@,;:\\\\\".\\[\\] \\000-\\031]+(?:(?:(?:\\r\\n)?[ \\t])+|\\Z|(?=[\\[\"()<>@,;:\\\\\".\n",
    "\\[\\]]))|\"(?:[^\\\"\\r\\\\]|\\\\.|(?:(?:\\r\\n)?[ \\t]))*\"(?:(?:\\r\\n)?[ \\t])*)(?:\\.(?:(?:\n",
    "\\r\\n)?[ \\t])*(?:[^()<>@,;:\\\\\".\\[\\] \\000-\\031]+(?:(?:(?:\\r\\n)?[ \\t])+|\\Z|(?=[\\[\n",
    "\"()<>@,;:\\\\\".\\[\\]]))|\"(?:[^\\\"\\r\\\\]|\\\\.|(?:(?:\\r\\n)?[ \\t]))*\"(?:(?:\\r\\n)?[ \\t])\n",
    "*))*@(?:(?:\\r\\n)?[ \\t])*(?:[^()<>@,;:\\\\\".\\[\\] \\000-\\031]+(?:(?:(?:\\r\\n)?[ \\t])\n",
    "+|\\Z|(?=[\\[\"()<>@,;:\\\\\".\\[\\]]))|\\[([^\\[\\]\\r\\\\]|\\\\.)*\\](?:(?:\\r\\n)?[ \\t])*)(?:\\\n",
    ".(?:(?:\\r\\n)?[ \\t])*(?:[^()<>@,;:\\\\\".\\[\\] \\000-\\031]+(?:(?:(?:\\r\\n)?[ \\t])+|\\Z\n",
    "|(?=[\\[\"()<>@,;:\\\\\".\\[\\]]))|\\[([^\\[\\]\\r\\\\]|\\\\.)*\\](?:(?:\\r\\n)?[ \\t])*))*\\>(?:(\n",
    "?:\\r\\n)?[ \\t])*))*)?;\\s*)\"\n",
    "\"\"\" \n",
    "\n",
    "\n",
    "regex = r\"\"\"(?:[a-z0-9!#$%&'*+/=?^_`{|}~-]+(?:\\.[a-z0-9!#$%&'*+/=?^_`{|}~-]+)*|\"(?:[\\x01-\\x08\\x0b\\x0c\\x0e-\\x1f\\x21\\x23-\\x5b\\x5d-\\x7f]|\\\\[\\x01-\\x09\\x0b\\x0c\\x0e-\\x7f])*\")@(?:(?:[a-z0-9](?:[a-z0-9-]*[a-z0-9])?\\.)+[a-z0-9](?:[a-z0-9-]*[a-z0-9])?|\\[(?:(?:(2(5[0-5]|[0-4][0-9])|1[0-9][0-9]|[1-9]?[0-9]))\\.){3}(?:(2(5[0-5]|[0-4][0-9])|1[0-9][0-9]|[1-9]?[0-9])|[a-z0-9-]*[a-z0-9]:(?:[\\x01-\\x08\\x0b\\x0c\\x0e-\\x1f\\x21-\\x5a\\x53-\\x7f]|\\\\[\\x01-\\x09\\x0b\\x0c\\x0e-\\x7f])+)\\])\"\"\"\n",
    "\n",
    "print(re.search(regex, \"mail@host.de\"))\n",
    "print(re.search(regex, \"@host.de\"))\n",
    "print(re.search(regex, \"mail@host.abcdefghijkl\"))\n"
   ]
  },
  {
   "cell_type": "markdown",
   "metadata": {},
   "source": [
    "## More Resources\n",
    "- [https://docs.python.org/3/library/re.html](https://docs.python.org/3/library/re.html)\n",
    "- [https://realpython.com/regex-python/](https://realpython.com/regex-python/)\n",
    "- [https://regexr.com/](https://regexr.com/)\n",
    "- [https://regex101.com/](https://regex101.com/)\n",
    "- []()"
   ]
  }
 ],
 "metadata": {
  "kernelspec": {
   "display_name": "Python 3.10.2 64-bit",
   "language": "python",
   "name": "python3"
  },
  "language_info": {
   "codemirror_mode": {
    "name": "ipython",
    "version": 3
   },
   "file_extension": ".py",
   "mimetype": "text/x-python",
   "name": "python",
   "nbconvert_exporter": "python",
   "pygments_lexer": "ipython3",
   "version": "3.10.2"
  },
  "vscode": {
   "interpreter": {
    "hash": "b593f0434b674c24c1128e043a5774a2c7d62b3d4f080a25f0cc7326258bf168"
   }
  }
 },
 "nbformat": 4,
 "nbformat_minor": 4
}
