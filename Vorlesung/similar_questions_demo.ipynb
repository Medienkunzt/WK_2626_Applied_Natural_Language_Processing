
{
    "cells": [
     {
      "cell_type": "code",
      "execution_count": 1,
      "metadata": {},
      "outputs": [
       {
        "name": "stderr",
        "output_type": "stream",
        "text": [
         "/opt/conda/envs/py39/lib/python3.10/site-packages/tqdm/auto.py:22: TqdmWarning: IProgress not found. Please update jupyter and ipywidgets. See https://ipywidgets.readthedocs.io/en/stable/user_install.html\n",
         "  from .autonotebook import tqdm as notebook_tqdm\n"
        ]
       }
      ],
      "source": [
       "import pandas as pd\n",
       "from tqdm import tqdm\n",
       "\n",
       "from sentence_transformers import SentenceTransformer, util\n",
       "from sklearn.metrics.pairwise import cosine_similarity\n",
       "from sklearn.neighbors import NearestNeighbors"
      ]
     },
     {
      "cell_type": "code",
      "execution_count": 3,
      "metadata": {},
      "outputs": [],
      "source": [
       "model = SentenceTransformer('sentence-transformers/all-MiniLM-L6-v2')"
      ]
     },
     {
      "cell_type": "code",
      "execution_count": 16,
      "metadata": {},
      "outputs": [
       {
        "data": {
         "text/html": [
          "<div>\n",
          "<style scoped>\n",
          "    .dataframe tbody tr th:only-of-type {\n",
          "        vertical-align: middle;\n",
          "    }\n",
          "\n",
          "    .dataframe tbody tr th {\n",
          "        vertical-align: top;\n",
          "    }\n",
          "\n",
          "    .dataframe thead th {\n",
          "        text-align: right;\n",
          "    }\n",
          "</style>\n",
          "<table border=\"1\" class=\"dataframe\">\n",
          "  <thead>\n",
          "    <tr style=\"text-align: right;\">\n",
          "      <th></th>\n",
          "      <th>text</th>\n",
          "      <th>embedding</th>\n",
          "    </tr>\n",
          "  </thead>\n",
          "  <tbody>\n",
          "    <tr>\n",
          "      <th>0</th>\n",
          "      <td>I did not have anything for breakfast.</td>\n",
          "      <td>[-0.031000761, 0.07120225, 0.038097158, 0.0586...</td>\n",
          "    </tr>\n",
          "    <tr>\n",
          "      <th>1</th>\n",
          "      <td>My favorite programming language is C.</td>\n",
          "      <td>[-0.04277088, -0.03635432, -0.04594175, -0.037...</td>\n",
          "    </tr>\n",
          "    <tr>\n",
          "      <th>2</th>\n",
          "      <td>I crashed my car this morning.</td>\n",
          "      <td>[0.05003604, 0.046443634, 0.06983808, 0.069962...</td>\n",
          "    </tr>\n",
          "  </tbody>\n",
          "</table>\n",
          "</div>"
         ],
         "text/plain": [
          "                                     text  \\\n",
          "0  I did not have anything for breakfast.   \n",
          "1  My favorite programming language is C.   \n",
          "2          I crashed my car this morning.   \n",
          "\n",
          "                                           embedding  \n",
          "0  [-0.031000761, 0.07120225, 0.038097158, 0.0586...  \n",
          "1  [-0.04277088, -0.03635432, -0.04594175, -0.037...  \n",
          "2  [0.05003604, 0.046443634, 0.06983808, 0.069962...  "
         ]
        },
        "execution_count": 16,
        "metadata": {},
        "output_type": "execute_result"
       }
      ],
      "source": [
       "corpus = [\"\"]\n",
       "corpus_embeddings = model.encode(corpus)\n",
       "\n",
       "embeddings_df = pd.DataFrame({\n",
       "    \"text\": corpus,\n",
       "    \"embedding\": list(corpus_embeddings)\n",
       "})\n",
       "\n",
       "embeddings_df.head()"
      ]
     },
     {
      "cell_type": "code",
      "execution_count": 17,
      "metadata": {},
      "outputs": [
       {
        "data": {
         "text/plain": [
          "array([-0.01657115, -0.02246662, -0.02351843,  0.03400706, -0.08734838,\n",
          "       -0.01081766,  0.11396897], dtype=float32)"
         ]
        },
        "execution_count": 17,
        "metadata": {},
        "output_type": "execute_result"
       }
      ],
      "source": [
       "question = \"\"\n",
       "\n",
       "q_embedding = model.encode([question])[0]\n",
       "q_embedding[:7]"
      ]
     },
     {
      "cell_type": "code",
      "execution_count": 18,
      "metadata": {},
      "outputs": [
       {
        "data": {
         "text/html": [
          "<div>\n",
          "<style scoped>\n",
          "    .dataframe tbody tr th:only-of-type {\n",
          "        vertical-align: middle;\n",
          "    }\n",
          "\n",
          "    .dataframe tbody tr th {\n",
          "        vertical-align: top;\n",
          "    }\n",
          "\n",
          "    .dataframe thead th {\n",
          "        text-align: right;\n",
          "    }\n",
          "</style>\n",
          "<table border=\"1\" class=\"dataframe\">\n",
          "  <thead>\n",
          "    <tr style=\"text-align: right;\">\n",
          "      <th></th>\n",
          "      <th>text</th>\n",
          "      <th>embedding</th>\n",
          "      <th>sim_score</th>\n",
          "    </tr>\n",
          "  </thead>\n",
          "  <tbody>\n",
          "    <tr>\n",
          "      <th>0</th>\n",
          "      <td>I did not have anything for breakfast.</td>\n",
          "      <td>[-0.031000761, 0.07120225, 0.038097158, 0.0586...</td>\n",
          "      <td>0.326841</td>\n",
          "    </tr>\n",
          "    <tr>\n",
          "      <th>2</th>\n",
          "      <td>I crashed my car this morning.</td>\n",
          "      <td>[0.05003604, 0.046443634, 0.06983808, 0.069962...</td>\n",
          "      <td>0.198683</td>\n",
          "    </tr>\n",
          "    <tr>\n",
          "      <th>1</th>\n",
          "      <td>My favorite programming language is C.</td>\n",
          "      <td>[-0.04277088, -0.03635432, -0.04594175, -0.037...</td>\n",
          "      <td>0.066953</td>\n",
          "    </tr>\n",
          "  </tbody>\n",
          "</table>\n",
          "</div>"
         ],
         "text/plain": [
          "                                     text  \\\n",
          "0  I did not have anything for breakfast.   \n",
          "2          I crashed my car this morning.   \n",
          "1  My favorite programming language is C.   \n",
          "\n",
          "                                           embedding  sim_score  \n",
          "0  [-0.031000761, 0.07120225, 0.038097158, 0.0586...   0.326841  \n",
          "2  [0.05003604, 0.046443634, 0.06983808, 0.069962...   0.198683  \n",
          "1  [-0.04277088, -0.03635432, -0.04594175, -0.037...   0.066953  "
         ]
        },
        "execution_count": 18,
        "metadata": {},
        "output_type": "execute_result"
       }
      ],
      "source": [
       "cosine_sims = []\n",
       "\n",
       "for i, r in embeddings_df.iterrows():\n",
       "    similarity_score = util.cos_sim(r[\"embedding\"], q_embedding)\n",
       "    cosine_sims.append(similarity_score[0].item())\n",
       "\n",
       "embeddings_df[\"sim_score\"] = cosine_sims\n",
       "embeddings_df.sort_values(by=[\"sim_score\"], ascending=False)"
      ]
     },
     {
      "cell_type": "code",
      "execution_count": null,
      "metadata": {},
      "outputs": [],
      "source": []
     },
     {
      "cell_type": "markdown",
      "metadata": {},
      "source": [
       "### Quora Dataset"
      ]
     },
     {
      "cell_type": "code",
      "execution_count": 19,
      "metadata": {},
      "outputs": [
       {
        "data": {
         "text/plain": [
          "808580"
         ]
        },
        "execution_count": 19,
        "metadata": {},
        "output_type": "execute_result"
       }
      ],
      "source": [
       "# Dataset Download:\n",
       "# https://www.kaggle.com/competitions/quora-question-pairs\n",
       "\n",
       "train_df = pd.read_csv('./train.csv') \n",
       "quora_corpus = train_df['question1'].to_list() + train_df['question2'].to_list()\n",
       "\n",
       "len(quora_corpus)"
      ]
     },
     {
      "cell_type": "code",
      "execution_count": 21,
      "metadata": {},
      "outputs": [
       {
        "ename": "KeyboardInterrupt",
        "evalue": "",
        "output_type": "error",
        "traceback": [
         "\u001b[0;31m---------------------------------------------------------------------------\u001b[0m",
         "\u001b[0;31mKeyboardInterrupt\u001b[0m                         Traceback (most recent call last)",
         "Cell \u001b[0;32mIn [21], line 1\u001b[0m\n\u001b[0;32m----> 1\u001b[0m corpus_embeddings \u001b[39m=\u001b[39m model\u001b[39m.\u001b[39;49mencode(quora_corpus, show_progress_bar\u001b[39m=\u001b[39;49m\u001b[39mTrue\u001b[39;49;00m)\n\u001b[1;32m      3\u001b[0m embeddings_df \u001b[39m=\u001b[39m pd\u001b[39m.\u001b[39mDataFrame({\n\u001b[1;32m      4\u001b[0m     \u001b[39m\"\u001b[39m\u001b[39mtext\u001b[39m\u001b[39m\"\u001b[39m: quora_corpus,\n\u001b[1;32m      5\u001b[0m     \u001b[39m\"\u001b[39m\u001b[39membedding\u001b[39m\u001b[39m\"\u001b[39m: \u001b[39mlist\u001b[39m(corpus_embeddings)\n\u001b[1;32m      6\u001b[0m })\n\u001b[1;32m      8\u001b[0m embeddings_df\u001b[39m.\u001b[39mhead()\n",
         "File \u001b[0;32m/opt/conda/envs/py39/lib/python3.10/site-packages/sentence_transformers/SentenceTransformer.py:156\u001b[0m, in \u001b[0;36mSentenceTransformer.encode\u001b[0;34m(self, sentences, batch_size, show_progress_bar, output_value, convert_to_numpy, convert_to_tensor, device, normalize_embeddings)\u001b[0m\n\u001b[1;32m    153\u001b[0m \u001b[39mself\u001b[39m\u001b[39m.\u001b[39mto(device)\n\u001b[1;32m    155\u001b[0m all_embeddings \u001b[39m=\u001b[39m []\n\u001b[0;32m--> 156\u001b[0m length_sorted_idx \u001b[39m=\u001b[39m np\u001b[39m.\u001b[39margsort([\u001b[39m-\u001b[39m\u001b[39mself\u001b[39m\u001b[39m.\u001b[39m_text_length(sen) \u001b[39mfor\u001b[39;00m sen \u001b[39min\u001b[39;00m sentences])\n\u001b[1;32m    157\u001b[0m sentences_sorted \u001b[39m=\u001b[39m [sentences[idx] \u001b[39mfor\u001b[39;00m idx \u001b[39min\u001b[39;00m length_sorted_idx]\n\u001b[1;32m    159\u001b[0m \u001b[39mfor\u001b[39;00m start_index \u001b[39min\u001b[39;00m trange(\u001b[39m0\u001b[39m, \u001b[39mlen\u001b[39m(sentences), batch_size, desc\u001b[39m=\u001b[39m\u001b[39m\"\u001b[39m\u001b[39mBatches\u001b[39m\u001b[39m\"\u001b[39m, disable\u001b[39m=\u001b[39m\u001b[39mnot\u001b[39;00m show_progress_bar):\n",
         "File \u001b[0;32m/opt/conda/envs/py39/lib/python3.10/site-packages/sentence_transformers/SentenceTransformer.py:156\u001b[0m, in \u001b[0;36m<listcomp>\u001b[0;34m(.0)\u001b[0m\n\u001b[1;32m    153\u001b[0m \u001b[39mself\u001b[39m\u001b[39m.\u001b[39mto(device)\n\u001b[1;32m    155\u001b[0m all_embeddings \u001b[39m=\u001b[39m []\n\u001b[0;32m--> 156\u001b[0m length_sorted_idx \u001b[39m=\u001b[39m np\u001b[39m.\u001b[39margsort([\u001b[39m-\u001b[39m\u001b[39mself\u001b[39;49m\u001b[39m.\u001b[39;49m_text_length(sen) \u001b[39mfor\u001b[39;00m sen \u001b[39min\u001b[39;00m sentences])\n\u001b[1;32m    157\u001b[0m sentences_sorted \u001b[39m=\u001b[39m [sentences[idx] \u001b[39mfor\u001b[39;00m idx \u001b[39min\u001b[39;00m length_sorted_idx]\n\u001b[1;32m    159\u001b[0m \u001b[39mfor\u001b[39;00m start_index \u001b[39min\u001b[39;00m trange(\u001b[39m0\u001b[39m, \u001b[39mlen\u001b[39m(sentences), batch_size, desc\u001b[39m=\u001b[39m\u001b[39m\"\u001b[39m\u001b[39mBatches\u001b[39m\u001b[39m\"\u001b[39m, disable\u001b[39m=\u001b[39m\u001b[39mnot\u001b[39;00m show_progress_bar):\n",
         "File \u001b[0;32m/opt/conda/envs/py39/lib/python3.10/site-packages/sentence_transformers/SentenceTransformer.py:571\u001b[0m, in \u001b[0;36mSentenceTransformer._text_length\u001b[0;34m(self, text)\u001b[0m\n\u001b[1;32m    569\u001b[0m     \u001b[39mreturn\u001b[39;00m \u001b[39mlen\u001b[39m(text)\n\u001b[1;32m    570\u001b[0m \u001b[39melse\u001b[39;00m:\n\u001b[0;32m--> 571\u001b[0m     \u001b[39mreturn\u001b[39;00m \u001b[39msum\u001b[39m([\u001b[39mlen\u001b[39m(t) \u001b[39mfor\u001b[39;00m t \u001b[39min\u001b[39;00m text])\n",
         "File \u001b[0;32m/opt/conda/envs/py39/lib/python3.10/site-packages/sentence_transformers/SentenceTransformer.py:571\u001b[0m, in \u001b[0;36m<listcomp>\u001b[0;34m(.0)\u001b[0m\n\u001b[1;32m    569\u001b[0m     \u001b[39mreturn\u001b[39;00m \u001b[39mlen\u001b[39m(text)\n\u001b[1;32m    570\u001b[0m \u001b[39melse\u001b[39;00m:\n\u001b[0;32m--> 571\u001b[0m     \u001b[39mreturn\u001b[39;00m \u001b[39msum\u001b[39m([\u001b[39mlen\u001b[39m(t) \u001b[39mfor\u001b[39;00m t \u001b[39min\u001b[39;00m text])\n",
         "\u001b[0;31mKeyboardInterrupt\u001b[0m: "
        ]
       }
      ],
      "source": [
       "corpus_embeddings = model.encode(quora_corpus, show_progress_bar=True)\n",
       "\n",
       "embeddings_df = pd.DataFrame({\n",
       "    \"text\": quora_corpus,\n",
       "    \"embedding\": list(corpus_embeddings)\n",
       "})\n",
       "\n",
       "embeddings_df.head()"
      ]
     },
     {
      "cell_type": "code",
      "execution_count": 22,
      "metadata": {},
      "outputs": [
       {
        "data": {
         "text/html": [
          "<div>\n",
          "<style scoped>\n",
          "    .dataframe tbody tr th:only-of-type {\n",
          "        vertical-align: middle;\n",
          "    }\n",
          "\n",
          "    .dataframe tbody tr th {\n",
          "        vertical-align: top;\n",
          "    }\n",
          "\n",
          "    .dataframe thead th {\n",
          "        text-align: right;\n",
          "    }\n",
          "</style>\n",
          "<table border=\"1\" class=\"dataframe\">\n",
          "  <thead>\n",
          "    <tr style=\"text-align: right;\">\n",
          "      <th></th>\n",
          "      <th>text</th>\n",
          "      <th>embedding</th>\n",
          "    </tr>\n",
          "  </thead>\n",
          "  <tbody>\n",
          "    <tr>\n",
          "      <th>0</th>\n",
          "      <td>What is the step by step guide to invest in sh...</td>\n",
          "      <td>[0.06814991, -0.039664138, -0.06096722, 0.0074...</td>\n",
          "    </tr>\n",
          "    <tr>\n",
          "      <th>1</th>\n",
          "      <td>What is the story of Kohinoor (Koh-i-Noor) Dia...</td>\n",
          "      <td>[-0.046798084, 0.15511493, -0.03920021, 0.0487...</td>\n",
          "    </tr>\n",
          "    <tr>\n",
          "      <th>2</th>\n",
          "      <td>How can I increase the speed of my internet co...</td>\n",
          "      <td>[-0.028324902, 0.03720962, -0.00040042048, 0.0...</td>\n",
          "    </tr>\n",
          "    <tr>\n",
          "      <th>3</th>\n",
          "      <td>Why am I mentally very lonely? How can I solve...</td>\n",
          "      <td>[0.063253395, -0.056393113, 0.04597212, 0.1082...</td>\n",
          "    </tr>\n",
          "    <tr>\n",
          "      <th>4</th>\n",
          "      <td>Which one dissolve in water quikly sugar, salt...</td>\n",
          "      <td>[-0.048768505, -0.025538873, -0.03621274, -0.0...</td>\n",
          "    </tr>\n",
          "  </tbody>\n",
          "</table>\n",
          "</div>"
         ],
         "text/plain": [
          "                                                text  \\\n",
          "0  What is the step by step guide to invest in sh...   \n",
          "1  What is the story of Kohinoor (Koh-i-Noor) Dia...   \n",
          "2  How can I increase the speed of my internet co...   \n",
          "3  Why am I mentally very lonely? How can I solve...   \n",
          "4  Which one dissolve in water quikly sugar, salt...   \n",
          "\n",
          "                                           embedding  \n",
          "0  [0.06814991, -0.039664138, -0.06096722, 0.0074...  \n",
          "1  [-0.046798084, 0.15511493, -0.03920021, 0.0487...  \n",
          "2  [-0.028324902, 0.03720962, -0.00040042048, 0.0...  \n",
          "3  [0.063253395, -0.056393113, 0.04597212, 0.1082...  \n",
          "4  [-0.048768505, -0.025538873, -0.03621274, -0.0...  "
         ]
        },
        "execution_count": 22,
        "metadata": {},
        "output_type": "execute_result"
       }
      ],
      "source": [
       "embeddings_df = pd.read_pickle(\"./train_embeddings.pkl\")\n",
       "embeddings_df.head()"
      ]
     },
     {
      "cell_type": "markdown",
      "metadata": {},
      "source": [
       "Use sklearn NearestNeighbors Search ([Docs](https://scikit-learn.org/stable/modules/generated/sklearn.neighbors.NearestNeighbors.html))"
      ]
     },
     {
      "cell_type": "code",
      "execution_count": 23,
      "metadata": {},
      "outputs": [
       {
        "data": {
         "text/html": [
          "<style>#sk-container-id-1 {color: black;background-color: white;}#sk-container-id-1 pre{padding: 0;}#sk-container-id-1 div.sk-toggleable {background-color: white;}#sk-container-id-1 label.sk-toggleable__label {cursor: pointer;display: block;width: 100%;margin-bottom: 0;padding: 0.3em;box-sizing: border-box;text-align: center;}#sk-container-id-1 label.sk-toggleable__label-arrow:before {content: \"▸\";float: left;margin-right: 0.25em;color: #696969;}#sk-container-id-1 label.sk-toggleable__label-arrow:hover:before {color: black;}#sk-container-id-1 div.sk-estimator:hover label.sk-toggleable__label-arrow:before {color: black;}#sk-container-id-1 div.sk-toggleable__content {max-height: 0;max-width: 0;overflow: hidden;text-align: left;background-color: #f0f8ff;}#sk-container-id-1 div.sk-toggleable__content pre {margin: 0.2em;color: black;border-radius: 0.25em;background-color: #f0f8ff;}#sk-container-id-1 input.sk-toggleable__control:checked~div.sk-toggleable__content {max-height: 200px;max-width: 100%;overflow: auto;}#sk-container-id-1 input.sk-toggleable__control:checked~label.sk-toggleable__label-arrow:before {content: \"▾\";}#sk-container-id-1 div.sk-estimator input.sk-toggleable__control:checked~label.sk-toggleable__label {background-color: #d4ebff;}#sk-container-id-1 div.sk-label input.sk-toggleable__control:checked~label.sk-toggleable__label {background-color: #d4ebff;}#sk-container-id-1 input.sk-hidden--visually {border: 0;clip: rect(1px 1px 1px 1px);clip: rect(1px, 1px, 1px, 1px);height: 1px;margin: -1px;overflow: hidden;padding: 0;position: absolute;width: 1px;}#sk-container-id-1 div.sk-estimator {font-family: monospace;background-color: #f0f8ff;border: 1px dotted black;border-radius: 0.25em;box-sizing: border-box;margin-bottom: 0.5em;}#sk-container-id-1 div.sk-estimator:hover {background-color: #d4ebff;}#sk-container-id-1 div.sk-parallel-item::after {content: \"\";width: 100%;border-bottom: 1px solid gray;flex-grow: 1;}#sk-container-id-1 div.sk-label:hover label.sk-toggleable__label {background-color: #d4ebff;}#sk-container-id-1 div.sk-serial::before {content: \"\";position: absolute;border-left: 1px solid gray;box-sizing: border-box;top: 0;bottom: 0;left: 50%;z-index: 0;}#sk-container-id-1 div.sk-serial {display: flex;flex-direction: column;align-items: center;background-color: white;padding-right: 0.2em;padding-left: 0.2em;position: relative;}#sk-container-id-1 div.sk-item {position: relative;z-index: 1;}#sk-container-id-1 div.sk-parallel {display: flex;align-items: stretch;justify-content: center;background-color: white;position: relative;}#sk-container-id-1 div.sk-item::before, #sk-container-id-1 div.sk-parallel-item::before {content: \"\";position: absolute;border-left: 1px solid gray;box-sizing: border-box;top: 0;bottom: 0;left: 50%;z-index: -1;}#sk-container-id-1 div.sk-parallel-item {display: flex;flex-direction: column;z-index: 1;position: relative;background-color: white;}#sk-container-id-1 div.sk-parallel-item:first-child::after {align-self: flex-end;width: 50%;}#sk-container-id-1 div.sk-parallel-item:last-child::after {align-self: flex-start;width: 50%;}#sk-container-id-1 div.sk-parallel-item:only-child::after {width: 0;}#sk-container-id-1 div.sk-dashed-wrapped {border: 1px dashed gray;margin: 0 0.4em 0.5em 0.4em;box-sizing: border-box;padding-bottom: 0.4em;background-color: white;}#sk-container-id-1 div.sk-label label {font-family: monospace;font-weight: bold;display: inline-block;line-height: 1.2em;}#sk-container-id-1 div.sk-label-container {text-align: center;}#sk-container-id-1 div.sk-container {/* jupyter's `normalize.less` sets `[hidden] { display: none; }` but bootstrap.min.css set `[hidden] { display: none !important; }` so we also need the `!important` here to be able to override the default hidden behavior on the sphinx rendered scikit-learn.org. See: https://github.com/scikit-learn/scikit-learn/issues/21755 */display: inline-block !important;position: relative;}#sk-container-id-1 div.sk-text-repr-fallback {display: none;}</style><div id=\"sk-container-id-1\" class=\"sk-top-container\"><div class=\"sk-text-repr-fallback\"><pre>NearestNeighbors(metric=&#x27;cosine&#x27;, n_jobs=-1, n_neighbors=10)</pre><b>In a Jupyter environment, please rerun this cell to show the HTML representation or trust the notebook. <br />On GitHub, the HTML representation is unable to render, please try loading this page with nbviewer.org.</b></div><div class=\"sk-container\" hidden><div class=\"sk-item\"><div class=\"sk-estimator sk-toggleable\"><input class=\"sk-toggleable__control sk-hidden--visually\" id=\"sk-estimator-id-1\" type=\"checkbox\" checked><label for=\"sk-estimator-id-1\" class=\"sk-toggleable__label sk-toggleable__label-arrow\">NearestNeighbors</label><div class=\"sk-toggleable__content\"><pre>NearestNeighbors(metric=&#x27;cosine&#x27;, n_jobs=-1, n_neighbors=10)</pre></div></div></div></div></div>"
         ],
         "text/plain": [
          "NearestNeighbors(metric='cosine', n_jobs=-1, n_neighbors=10)"
         ]
        },
        "execution_count": 23,
        "metadata": {},
        "output_type": "execute_result"
       }
      ],
      "source": [
       "neigh_model = NearestNeighbors(n_neighbors=10,\n",
       "                         metric='cosine',\n",
       "                         algorithm='auto',\n",
       "                         n_jobs=-1)\n",
       "\n",
       "neigh_model.fit(list(embeddings_df[\"embedding\"].values))"
      ]
     },
     {
      "cell_type": "code",
      "execution_count": 32,
      "metadata": {},
      "outputs": [],
      "source": [
       "question = \"\"\n",
       "q_embedding = model.encode([question])\n",
       "dist, index = neigh_model.kneighbors(q_embedding)"
      ]
     },
     {
      "cell_type": "code",
      "execution_count": 35,
      "metadata": {},
      "outputs": [
       {
        "data": {
         "text/html": [
          "<div>\n",
          "<style scoped>\n",
          "    .dataframe tbody tr th:only-of-type {\n",
          "        vertical-align: middle;\n",
          "    }\n",
          "\n",
          "    .dataframe tbody tr th {\n",
          "        vertical-align: top;\n",
          "    }\n",
          "\n",
          "    .dataframe thead th {\n",
          "        text-align: right;\n",
          "    }\n",
          "</style>\n",
          "<table border=\"1\" class=\"dataframe\">\n",
          "  <thead>\n",
          "    <tr style=\"text-align: right;\">\n",
          "      <th></th>\n",
          "      <th>text</th>\n",
          "      <th>embedding</th>\n",
          "      <th>distance</th>\n",
          "    </tr>\n",
          "  </thead>\n",
          "  <tbody>\n",
          "    <tr>\n",
          "      <th>350668</th>\n",
          "      <td>What's the meaning of living?</td>\n",
          "      <td>[-0.022799816, 0.03190373, -0.039743334, 0.076...</td>\n",
          "      <td>0.014405</td>\n",
          "    </tr>\n",
          "    <tr>\n",
          "      <th>413418</th>\n",
          "      <td>What's the meaning of living?</td>\n",
          "      <td>[-0.022799816, 0.03190373, -0.039743334, 0.076...</td>\n",
          "      <td>0.014405</td>\n",
          "    </tr>\n",
          "    <tr>\n",
          "      <th>256532</th>\n",
          "      <td>What is the meaning of living life?</td>\n",
          "      <td>[-0.045145173, 0.059800737, -0.06367421, 0.046...</td>\n",
          "      <td>0.075980</td>\n",
          "    </tr>\n",
          "    <tr>\n",
          "      <th>372862</th>\n",
          "      <td>What is the meaning of living life?</td>\n",
          "      <td>[-0.045145173, 0.059800737, -0.06367421, 0.046...</td>\n",
          "      <td>0.075980</td>\n",
          "    </tr>\n",
          "    <tr>\n",
          "      <th>42700</th>\n",
          "      <td>What is the meaning of living life?</td>\n",
          "      <td>[-0.045145173, 0.059800737, -0.06367421, 0.046...</td>\n",
          "      <td>0.075980</td>\n",
          "    </tr>\n",
          "    <tr>\n",
          "      <th>592825</th>\n",
          "      <td>What is the meaning of living life?</td>\n",
          "      <td>[-0.045145173, 0.059800737, -0.06367421, 0.046...</td>\n",
          "      <td>0.075980</td>\n",
          "    </tr>\n",
          "    <tr>\n",
          "      <th>633111</th>\n",
          "      <td>What is the meaning of living life?</td>\n",
          "      <td>[-0.045145173, 0.059800737, -0.06367421, 0.046...</td>\n",
          "      <td>0.075980</td>\n",
          "    </tr>\n",
          "    <tr>\n",
          "      <th>396551</th>\n",
          "      <td>What is the meaning of living life?</td>\n",
          "      <td>[-0.045145173, 0.059800737, -0.06367421, 0.046...</td>\n",
          "      <td>0.075980</td>\n",
          "    </tr>\n",
          "    <tr>\n",
          "      <th>211080</th>\n",
          "      <td>What is the meaning of living life?</td>\n",
          "      <td>[-0.045145173, 0.059800737, -0.06367421, 0.046...</td>\n",
          "      <td>0.075980</td>\n",
          "    </tr>\n",
          "    <tr>\n",
          "      <th>203406</th>\n",
          "      <td>What is the meaning of living life?</td>\n",
          "      <td>[-0.045145173, 0.059800737, -0.06367421, 0.046...</td>\n",
          "      <td>0.075980</td>\n",
          "    </tr>\n",
          "  </tbody>\n",
          "</table>\n",
          "</div>"
         ],
         "text/plain": [
          "                                       text  \\\n",
          "350668        What's the meaning of living?   \n",
          "413418        What's the meaning of living?   \n",
          "256532  What is the meaning of living life?   \n",
          "372862  What is the meaning of living life?   \n",
          "42700   What is the meaning of living life?   \n",
          "592825  What is the meaning of living life?   \n",
          "633111  What is the meaning of living life?   \n",
          "396551  What is the meaning of living life?   \n",
          "211080  What is the meaning of living life?   \n",
          "203406  What is the meaning of living life?   \n",
          "\n",
          "                                                embedding  distance  \n",
          "350668  [-0.022799816, 0.03190373, -0.039743334, 0.076...  0.014405  \n",
          "413418  [-0.022799816, 0.03190373, -0.039743334, 0.076...  0.014405  \n",
          "256532  [-0.045145173, 0.059800737, -0.06367421, 0.046...  0.075980  \n",
          "372862  [-0.045145173, 0.059800737, -0.06367421, 0.046...  0.075980  \n",
          "42700   [-0.045145173, 0.059800737, -0.06367421, 0.046...  0.075980  \n",
          "592825  [-0.045145173, 0.059800737, -0.06367421, 0.046...  0.075980  \n",
          "633111  [-0.045145173, 0.059800737, -0.06367421, 0.046...  0.075980  \n",
          "396551  [-0.045145173, 0.059800737, -0.06367421, 0.046...  0.075980  \n",
          "211080  [-0.045145173, 0.059800737, -0.06367421, 0.046...  0.075980  \n",
          "203406  [-0.045145173, 0.059800737, -0.06367421, 0.046...  0.075980  "
         ]
        },
        "execution_count": 35,
        "metadata": {},
        "output_type": "execute_result"
       }
      ],
      "source": [
       "result_df = embeddings_df.copy().iloc[index[0]]\n",
       "result_df[\"distance\"] = dist[0]\n",
       "result_df.sort_values(by=\"distance\", ascending=True)\n"
      ]
     },
     {
      "cell_type": "code",
      "execution_count": null,
      "metadata": {},
      "outputs": [],
      "source": []
     }
    ],
    "metadata": {
     "kernelspec": {
      "display_name": "Python 3.10.6 ('py39': conda)",
      "language": "python",
      "name": "python3"
     },
     "language_info": {
      "codemirror_mode": {
       "name": "ipython",
       "version": 3
      },
      "file_extension": ".py",
      "mimetype": "text/x-python",
      "name": "python",
      "nbconvert_exporter": "python",
      "pygments_lexer": "ipython3",
      "version": "3.10.6"
     },
     "orig_nbformat": 4,
     "vscode": {
      "interpreter": {
       "hash": "17f19b2e755769a5519b38b6367878bc0c8e8eee85e91277104d2410a6f820df"
      }
     }
    },
    "nbformat": 4,
    "nbformat_minor": 2
   }
   