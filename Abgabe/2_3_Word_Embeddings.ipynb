{
 "cells": [
  {
   "cell_type": "code",
   "execution_count": null,
   "outputs": [],
   "source": [
    "from nltk.tokenize import sent_tokenize, word_tokenize\n",
    "import re\n",
    "import gensim\n",
    "from gensim.models import Word2Vec\n",
    "import numpy as np"
   ],
   "metadata": {
    "collapsed": false
   }
  },
  {
   "cell_type": "code",
   "execution_count": null,
   "outputs": [],
   "source": [
    "# Train a word embedding model based on the Wikipedia corpus. Use the gensim library for this. Use the CBOW algorithm.\n",
    "\n",
    "# load wikipedia corpus\n",
    "with open(\"./data/Wikipedia1M.txt\", \"r\", encoding=\"utf-8\") as file:\n",
    "    text = file.read()\n",
    "\n",
    "# clean text\n",
    "def clean_text(text):\n",
    "    text = re.sub(r'[^a-zA-Z0-9äöüÄÖÜß.,!?]', ' ', text) # remove all special characters\n",
    "    text = re.sub(r' +', ' ', text) # remove multiple spaces\n",
    "    text = text.strip() # remove leading and trailing spaces\n",
    "    text = text.lower()\n",
    "    return text\n",
    "\n",
    "# clean text\n",
    "text = clean_text(text)"
   ],
   "metadata": {
    "collapsed": false
   }
  },
  {
   "cell_type": "code",
   "execution_count": null,
   "metadata": {},
   "outputs": [],
   "source": [
    "sentences = []\n",
    "\n",
    "# iterate through each sentence in the file\n",
    "for sent in sent_tokenize(text, language='german'):\n",
    "    sentence = []\n",
    "\n",
    "    # tokenize the sentence into words\n",
    "    for word in word_tokenize(sent):\n",
    "        sentence.append(word)\n",
    "\n",
    "    sentences.append(sentence)\n",
    "\n",
    "print(sentences[:2])"
   ]
  },
  {
   "cell_type": "code",
   "execution_count": null,
   "metadata": {},
   "outputs": [],
   "source": [
    "# Create CBOW model\n",
    "model1 = gensim.models.Word2Vec(sentences, min_count=1, vector_size=100, window=5)\n",
    "\n",
    "print(model1.wv.most_similar(\"menschen\"))"
   ]
  },
  {
   "cell_type": "code",
   "execution_count": null,
   "metadata": {},
   "outputs": [],
   "source": [
    "# Implement a function cossim(w1, w2) that calculates the cosine similarity between two vectors.\n",
    "def cossim(w1, w2):\n",
    "    return np.dot(w1, w2) / (np.linalg.norm(w1) * np.linalg.norm(w2))"
   ]
  },
  {
   "cell_type": "code",
   "execution_count": null,
   "metadata": {},
   "outputs": [],
   "source": [
    "model1.wv[\"jupiter\"]"
   ]
  },
  {
   "cell_type": "code",
   "execution_count": null,
   "metadata": {},
   "outputs": [],
   "source": [
    "# Using your cossim function, calculate the similarity between the words \"house\" and \"garden\".\n",
    "print(cossim(model1.wv[\"haus\"], model1.wv[\"garten\"]))\n"
   ]
  },
  {
   "cell_type": "code",
   "execution_count": null,
   "metadata": {},
   "outputs": [],
   "source": [
    "# What are the k = 10 most similar words to \"student\"?\n",
    "print(model1.wv.most_similar(\"student\", topn=10), \"\\n\")\n",
    "\n",
    "\n",
    "####################################\n",
    "########## Just for fun ############\n",
    "# What are the k = 10 most similar words to \"student\" and \"teacher\"?\n",
    "print(model1.wv.most_similar(positive=[\"student\", \"lehrer\"], topn=10), \"\\n\")\n",
    "\n",
    "# What are the k = 10 most similar words to \"student\" and \"teacher\" but not \"school\"?\n",
    "print(model1.wv.most_similar(positive=[\"student\", \"lehrer\"], negative=[\"schule\"], topn=10), \"\\n\")\n",
    "\n",
    "\n"
   ]
  }
 ],
 "metadata": {
  "kernelspec": {
   "display_name": "venv_nlp",
   "language": "python",
   "name": "python3"
  },
  "language_info": {
   "codemirror_mode": {
    "name": "ipython",
    "version": 3
   },
   "file_extension": ".py",
   "mimetype": "text/x-python",
   "name": "python",
   "nbconvert_exporter": "python",
   "pygments_lexer": "ipython3",
   "version": "3.11.1"
  },
  "orig_nbformat": 4,
  "vscode": {
   "interpreter": {
    "hash": "58e9a580e33e381d18751b4bd6d357b368bf1dd5dbcb6db220004eb9fac133a3"
   }
  }
 },
 "nbformat": 4,
 "nbformat_minor": 2
}
