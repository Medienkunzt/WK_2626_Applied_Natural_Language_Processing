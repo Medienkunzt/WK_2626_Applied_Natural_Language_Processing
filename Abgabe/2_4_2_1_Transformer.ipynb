{
 "cells": [
  {
   "attachments": {},
   "cell_type": "markdown",
   "metadata": {},
   "source": [
    "### Das ausfetzen eines venv mit der transformers-Bibliothek war auf unserem Windows Betriebssystem leider nicht möglich, weshalb ein conda enviroment erstellt werden musste. Alle ausgeführten Befehle wurde in der transformer_requirements.txt hinterlegt. Die Automatische erstellung der requirements datei beinhaltete aus unerfindlichen Gründen relative Pfade wie \"ipywidgets @ file:///home/conda/feedstock_root/build_artifacts/ipywidgets_1671720089366/work\"."
   ]
  },
  {
   "cell_type": "code",
   "execution_count": 1,
   "metadata": {
    "collapsed": false
   },
   "outputs": [
    {
     "name": "stderr",
     "output_type": "stream",
     "text": [
      "c:\\Users\\monox\\anaconda3\\envs\\transformer_env\\lib\\site-packages\\tqdm\\auto.py:22: TqdmWarning: IProgress not found. Please update jupyter and ipywidgets. See https://ipywidgets.readthedocs.io/en/stable/user_install.html\n",
      "  from .autonotebook import tqdm as notebook_tqdm\n"
     ]
    }
   ],
   "source": [
    "from transformers import BertTokenizer"
   ]
  },
  {
   "cell_type": "code",
   "execution_count": 2,
   "metadata": {
    "collapsed": false
   },
   "outputs": [
    {
     "name": "stderr",
     "output_type": "stream",
     "text": [
      "Downloading: 100%|██████████| 213k/213k [00:00<00:00, 414kB/s] \n",
      "c:\\Users\\monox\\anaconda3\\envs\\transformer_env\\lib\\site-packages\\huggingface_hub-0.11.1-py3.8.egg\\huggingface_hub\\file_download.py:127: UserWarning: `huggingface_hub` cache-system uses symlinks by default to efficiently store duplicated files but your machine does not support them in C:\\Users\\monox\\.cache\\huggingface\\hub. Caching files will still work but in a degraded version that might require more space on your disk. This warning can be disabled by setting the `HF_HUB_DISABLE_SYMLINKS_WARNING` environment variable. For more details, see https://huggingface.co/docs/huggingface_hub/how-to-cache#limitations.\n",
      "To support symlinks on Windows, you either need to activate Developer Mode or to run Python as an administrator. In order to see activate developer mode, see this article: https://docs.microsoft.com/en-us/windows/apps/get-started/enable-your-device-for-development\n",
      "Downloading: 100%|██████████| 29.0/29.0 [00:00<00:00, 9.65kB/s]\n",
      "Downloading: 100%|██████████| 570/570 [00:00<00:00, 285kB/s]\n"
     ]
    }
   ],
   "source": [
    "# Load the BERT tokenizer.\n",
    "tokenizer = BertTokenizer.from_pretrained(\"bert-base-cased\")"
   ]
  },
  {
   "cell_type": "code",
   "execution_count": 3,
   "metadata": {
    "collapsed": false
   },
   "outputs": [
    {
     "name": "stdout",
     "output_type": "stream",
     "text": [
      "['B', '##ER', '##T', 'is', 'at', 'its', 'core', 'a', 'transform', '##er', 'language', 'model', 'with', 'a', 'variable', 'number', 'of', 'en', '##code', '##r', 'layers', 'and', 'self', '-', 'attention', 'heads', '.', 'The', 'architecture', 'is', 'almost', 'identical', 'to', 'the', 'original', 'transform', '##er', 'implementation', 'in', 'V', '##as', '##wan', '##i', 'et', 'al', '.', 'B', '##ER', '##T', 'was', 'pre', '##tra', '##ined', 'on', 'two', 'tasks', ':', 'language', 'modeling', '(', '15', '%', 'of', 'token', '##s', 'were', 'masked', 'and', 'B', '##ER', '##T', 'was', 'trained', 'to', 'predict', 'them', 'from', 'context', ')', 'and', 'next', 'sentence', 'prediction', '(', 'B', '##ER', '##T', 'was', 'trained', 'to', 'predict', 'if', 'a', 'chosen', 'next', 'sentence', 'was', 'probable', 'or', 'not', 'given', 'the', 'first', 'sentence', ')', '.', 'As', 'a', 'result', 'of', 'the', 'training', 'process', ',', 'B', '##ER', '##T', 'learns', 'context', '##ual', 'em', '##bed', '##ding', '##s', 'for', 'words', '.', 'After', 'pre', '##tra', '##ining', ',', 'which', 'is', 'computational', '##ly', 'expensive', ',', 'B', '##ER', '##T', 'can', 'be', 'fine', '##tun', '##ed', 'with', 'fewer', 'resources', 'on', 'smaller', 'data', '##sets', 'to', 'op', '##ti', '##mize', 'its', 'performance', 'on', 'specific', 'tasks', '.']\n",
      "[101, 139, 9637, 1942, 1110, 1120, 1157, 4160, 170, 11303, 1200, 1846, 2235, 1114, 170, 7898, 1295, 1104, 4035, 13775, 1197, 8798, 1105, 2191, 118, 2209, 4075, 119, 1109, 4220, 1110, 1593, 6742, 1106, 1103, 1560, 11303, 1200, 7249, 1107, 159, 2225, 5491, 1182, 3084, 2393, 119, 139, 9637, 1942, 1108, 3073, 4487, 9044, 1113, 1160, 8249, 131, 1846, 13117, 113, 1405, 110, 1104, 22559, 1116, 1127, 19970, 1105, 139, 9637, 1942, 1108, 3972, 1106, 17163, 1172, 1121, 5618, 114, 1105, 1397, 5650, 20770, 113, 139, 9637, 1942, 1108, 3972, 1106, 17163, 1191, 170, 3468, 1397, 5650, 1108, 16950, 1137, 1136, 1549, 1103, 1148, 5650, 114, 119, 1249, 170, 1871, 1104, 1103, 2013, 1965, 117, 139, 9637, 1942, 10123, 5618, 4746, 9712, 4774, 3408, 1116, 1111, 1734, 119, 1258, 3073, 4487, 16534, 117, 1134, 1110, 19903, 1193, 5865, 117, 139, 9637, 1942, 1169, 1129, 2503, 19972, 1174, 1114, 8307, 3979, 1113, 2964, 2233, 27948, 1106, 11769, 3121, 19092, 1157, 2099, 1113, 2747, 8249, 119, 102]\n"
     ]
    }
   ],
   "source": [
    "# print tokenized text\n",
    "text = \"BERT is at its core a transformer language model with a variable number of encoder layers and self-attention heads. The architecture is almost identical to the original transformer implementation in Vaswani et al. BERT was pretrained on two tasks: language modeling (15% of tokens were masked and BERT was trained to predict them from context) and next sentence prediction (BERT was trained to predict if a chosen next sentence was probable or not given the first sentence). As a result of the training process, BERT learns contextual embeddings for words. After pretraining, which is computationally expensive, BERT can be finetuned with fewer resources on smaller datasets to optimize its performance on specific tasks.\"\n",
    "tokens = tokenizer.tokenize(text)\n",
    "print(tokens)"
   ]
  }
 ],
 "metadata": {
  "kernelspec": {
   "display_name": "transformer_env",
   "language": "python",
   "name": "python3"
  },
  "language_info": {
   "codemirror_mode": {
    "name": "ipython",
    "version": 3
   },
   "file_extension": ".py",
   "mimetype": "text/x-python",
   "name": "python",
   "nbconvert_exporter": "python",
   "pygments_lexer": "ipython3",
   "version": "3.9.15 (main, Nov 24 2022, 14:39:17) [MSC v.1916 64 bit (AMD64)]"
  },
  "vscode": {
   "interpreter": {
    "hash": "2c5ffb4cbf69a0f05c94063856d79df808b8feac54bdce22ed30518daae957b3"
   }
  }
 },
 "nbformat": 4,
 "nbformat_minor": 0
}
